{
 "cells": [
  {
   "cell_type": "code",
   "execution_count": 56,
   "outputs": [],
   "source": [
    "import pandas as pd\n",
    "import re\n",
    "import string\n",
    "from datetime import date, timedelta\n",
    "from nltk.corpus import stopwords\n",
    "from nltk.tokenize import word_tokenize\n",
    "from nltk.stem import SnowballStemmer\n",
    "import pickle\n",
    "import os\n",
    "from pathlib import Path"
   ],
   "metadata": {
    "collapsed": false,
    "ExecuteTime": {
     "start_time": "2024-03-06T18:28:27.091047Z",
     "end_time": "2024-03-06T18:28:27.107213Z"
    }
   }
  },
  {
   "cell_type": "code",
   "execution_count": 57,
   "id": "initial_id",
   "metadata": {
    "collapsed": true,
    "ExecuteTime": {
     "start_time": "2024-03-06T18:28:27.104365Z",
     "end_time": "2024-03-06T18:28:27.184790Z"
    }
   },
   "outputs": [],
   "source": [
    "stored_folder = Path(os.path.abspath('')).parent.parent / \"data\" / \"raw\" / \"McDonald_s_Reviews.csv\"\n",
    "data = pd.read_csv(stored_folder,encoding=\"latin-1\")"
   ]
  },
  {
   "cell_type": "code",
   "execution_count": 58,
   "outputs": [
    {
     "data": {
      "text/plain": "   reviewer_id  store_name              category  \\\n0            1  McDonald's  Fast food restaurant   \n1            2  McDonald's  Fast food restaurant   \n2            3  McDonald's  Fast food restaurant   \n3            4  McDonald's  Fast food restaurant   \n4            5  McDonald's  Fast food restaurant   \n5            6  McDonald's  Fast food restaurant   \n6            7  McDonald's  Fast food restaurant   \n7            8  McDonald's  Fast food restaurant   \n8            9  McDonald's  Fast food restaurant   \n9           10  McDonald's  Fast food restaurant   \n\n                                       store_address  latitude   longitude  \\\n0  13749 US-183 Hwy, Austin, TX 78750, United States  30.460718 -97.792874   \n1  13749 US-183 Hwy, Austin, TX 78750, United States  30.460718 -97.792874   \n2  13749 US-183 Hwy, Austin, TX 78750, United States  30.460718 -97.792874   \n3  13749 US-183 Hwy, Austin, TX 78750, United States  30.460718 -97.792874   \n4  13749 US-183 Hwy, Austin, TX 78750, United States  30.460718 -97.792874   \n5  13749 US-183 Hwy, Austin, TX 78750, United States  30.460718 -97.792874   \n6  13749 US-183 Hwy, Austin, TX 78750, United States  30.460718 -97.792874   \n7  13749 US-183 Hwy, Austin, TX 78750, United States  30.460718 -97.792874   \n8  13749 US-183 Hwy, Austin, TX 78750, United States  30.460718 -97.792874   \n9  13749 US-183 Hwy, Austin, TX 78750, United States  30.460718 -97.792874   \n\n  rating_count   review_time  \\\n0        1,240  3 months ago   \n1        1,240    5 days ago   \n2        1,240    5 days ago   \n3        1,240   a month ago   \n4        1,240  2 months ago   \n5        1,240   3 weeks ago   \n6        1,240  3 months ago   \n7        1,240    a year ago   \n8        1,240  3 months ago   \n9        1,240  3 months ago   \n\n                                              review   rating  \n0  Why does it look like someone spit on my food?...   1 star  \n1  It'd McDonalds. It is what it is as far as the...  4 stars  \n2  Made a mobile order got to the speaker and che...   1 star  \n3  My mc. Crispy chicken sandwich was ï¿½ï¿½ï¿½ï¿...  5 stars  \n4  I repeat my order 3 times in the drive thru, a...   1 star  \n5  I work for door dash and they locked us all ou...   1 star  \n6  If I  could give this location a zero on custo...   1 star  \n7  Came in and ordered a Large coffee w/no ice. T...   1 star  \n8  Went thru drive thru. Ordered. Getting home no...   1 star  \n9  I'm not really a huge fan of fast food, but I ...  4 stars  ",
      "text/html": "<div>\n<style scoped>\n    .dataframe tbody tr th:only-of-type {\n        vertical-align: middle;\n    }\n\n    .dataframe tbody tr th {\n        vertical-align: top;\n    }\n\n    .dataframe thead th {\n        text-align: right;\n    }\n</style>\n<table border=\"1\" class=\"dataframe\">\n  <thead>\n    <tr style=\"text-align: right;\">\n      <th></th>\n      <th>reviewer_id</th>\n      <th>store_name</th>\n      <th>category</th>\n      <th>store_address</th>\n      <th>latitude</th>\n      <th>longitude</th>\n      <th>rating_count</th>\n      <th>review_time</th>\n      <th>review</th>\n      <th>rating</th>\n    </tr>\n  </thead>\n  <tbody>\n    <tr>\n      <th>0</th>\n      <td>1</td>\n      <td>McDonald's</td>\n      <td>Fast food restaurant</td>\n      <td>13749 US-183 Hwy, Austin, TX 78750, United States</td>\n      <td>30.460718</td>\n      <td>-97.792874</td>\n      <td>1,240</td>\n      <td>3 months ago</td>\n      <td>Why does it look like someone spit on my food?...</td>\n      <td>1 star</td>\n    </tr>\n    <tr>\n      <th>1</th>\n      <td>2</td>\n      <td>McDonald's</td>\n      <td>Fast food restaurant</td>\n      <td>13749 US-183 Hwy, Austin, TX 78750, United States</td>\n      <td>30.460718</td>\n      <td>-97.792874</td>\n      <td>1,240</td>\n      <td>5 days ago</td>\n      <td>It'd McDonalds. It is what it is as far as the...</td>\n      <td>4 stars</td>\n    </tr>\n    <tr>\n      <th>2</th>\n      <td>3</td>\n      <td>McDonald's</td>\n      <td>Fast food restaurant</td>\n      <td>13749 US-183 Hwy, Austin, TX 78750, United States</td>\n      <td>30.460718</td>\n      <td>-97.792874</td>\n      <td>1,240</td>\n      <td>5 days ago</td>\n      <td>Made a mobile order got to the speaker and che...</td>\n      <td>1 star</td>\n    </tr>\n    <tr>\n      <th>3</th>\n      <td>4</td>\n      <td>McDonald's</td>\n      <td>Fast food restaurant</td>\n      <td>13749 US-183 Hwy, Austin, TX 78750, United States</td>\n      <td>30.460718</td>\n      <td>-97.792874</td>\n      <td>1,240</td>\n      <td>a month ago</td>\n      <td>My mc. Crispy chicken sandwich was ï¿½ï¿½ï¿½ï¿...</td>\n      <td>5 stars</td>\n    </tr>\n    <tr>\n      <th>4</th>\n      <td>5</td>\n      <td>McDonald's</td>\n      <td>Fast food restaurant</td>\n      <td>13749 US-183 Hwy, Austin, TX 78750, United States</td>\n      <td>30.460718</td>\n      <td>-97.792874</td>\n      <td>1,240</td>\n      <td>2 months ago</td>\n      <td>I repeat my order 3 times in the drive thru, a...</td>\n      <td>1 star</td>\n    </tr>\n    <tr>\n      <th>5</th>\n      <td>6</td>\n      <td>McDonald's</td>\n      <td>Fast food restaurant</td>\n      <td>13749 US-183 Hwy, Austin, TX 78750, United States</td>\n      <td>30.460718</td>\n      <td>-97.792874</td>\n      <td>1,240</td>\n      <td>3 weeks ago</td>\n      <td>I work for door dash and they locked us all ou...</td>\n      <td>1 star</td>\n    </tr>\n    <tr>\n      <th>6</th>\n      <td>7</td>\n      <td>McDonald's</td>\n      <td>Fast food restaurant</td>\n      <td>13749 US-183 Hwy, Austin, TX 78750, United States</td>\n      <td>30.460718</td>\n      <td>-97.792874</td>\n      <td>1,240</td>\n      <td>3 months ago</td>\n      <td>If I  could give this location a zero on custo...</td>\n      <td>1 star</td>\n    </tr>\n    <tr>\n      <th>7</th>\n      <td>8</td>\n      <td>McDonald's</td>\n      <td>Fast food restaurant</td>\n      <td>13749 US-183 Hwy, Austin, TX 78750, United States</td>\n      <td>30.460718</td>\n      <td>-97.792874</td>\n      <td>1,240</td>\n      <td>a year ago</td>\n      <td>Came in and ordered a Large coffee w/no ice. T...</td>\n      <td>1 star</td>\n    </tr>\n    <tr>\n      <th>8</th>\n      <td>9</td>\n      <td>McDonald's</td>\n      <td>Fast food restaurant</td>\n      <td>13749 US-183 Hwy, Austin, TX 78750, United States</td>\n      <td>30.460718</td>\n      <td>-97.792874</td>\n      <td>1,240</td>\n      <td>3 months ago</td>\n      <td>Went thru drive thru. Ordered. Getting home no...</td>\n      <td>1 star</td>\n    </tr>\n    <tr>\n      <th>9</th>\n      <td>10</td>\n      <td>McDonald's</td>\n      <td>Fast food restaurant</td>\n      <td>13749 US-183 Hwy, Austin, TX 78750, United States</td>\n      <td>30.460718</td>\n      <td>-97.792874</td>\n      <td>1,240</td>\n      <td>3 months ago</td>\n      <td>I'm not really a huge fan of fast food, but I ...</td>\n      <td>4 stars</td>\n    </tr>\n  </tbody>\n</table>\n</div>"
     },
     "execution_count": 58,
     "metadata": {},
     "output_type": "execute_result"
    }
   ],
   "source": [
    "data.head(10)"
   ],
   "metadata": {
    "collapsed": false,
    "ExecuteTime": {
     "start_time": "2024-03-06T18:28:27.187490Z",
     "end_time": "2024-03-06T18:28:27.190314Z"
    }
   },
   "id": "338eb1bdea4a9121"
  },
  {
   "cell_type": "code",
   "execution_count": 59,
   "outputs": [
    {
     "data": {
      "text/plain": "Index(['reviewer_id', 'store_name', 'category', 'store_address', 'latitude ',\n       'longitude', 'rating_count', 'review_time', 'review', 'rating'],\n      dtype='object')"
     },
     "execution_count": 59,
     "metadata": {},
     "output_type": "execute_result"
    }
   ],
   "source": [
    "# check data column\n",
    "data.columns"
   ],
   "metadata": {
    "collapsed": false,
    "ExecuteTime": {
     "start_time": "2024-03-06T18:28:27.191157Z",
     "end_time": "2024-03-06T18:28:27.193720Z"
    }
   },
   "id": "9af7227208effa7e"
  },
  {
   "cell_type": "code",
   "execution_count": 60,
   "outputs": [
    {
     "name": "stdout",
     "output_type": "stream",
     "text": [
      "missing value :\n",
      " reviewer_id        0\n",
      "store_name         0\n",
      "category           0\n",
      "store_address      0\n",
      "latitude         660\n",
      "longitude        660\n",
      "rating_count       0\n",
      "review_time        0\n",
      "review             0\n",
      "rating             0\n",
      "dtype: int64\n"
     ]
    }
   ],
   "source": [
    "missing_value = data.isnull().sum()\n",
    "print('missing value :\\n',missing_value)"
   ],
   "metadata": {
    "collapsed": false,
    "ExecuteTime": {
     "start_time": "2024-03-06T18:28:27.200575Z",
     "end_time": "2024-03-06T18:28:27.203455Z"
    }
   },
   "id": "12ef914e9850fc6c"
  },
  {
   "cell_type": "code",
   "execution_count": 61,
   "outputs": [
    {
     "name": "stdout",
     "output_type": "stream",
     "text": [
      "store_name: 2 : [\"McDonald's\" \"ýýýMcDonald's\"]\n",
      "category: 1 : ['Fast food restaurant']\n",
      "store_address: 40 : ['13749 US-183 Hwy, Austin, TX 78750, United States'\n",
      " '1698 US-209, Brodheadsville, PA 18322, United States'\n",
      " '72-69 Kissena Blvd, Queens, NY 11367, United States'\n",
      " '429 7th Ave, New York, NY 10001, United States'\n",
      " '724 Broadway, New York, NY 10003, United States'\n",
      " '160 Broadway, New York, NY 10038, United States'\n",
      " '555 13th St NW, Washington, DC 20004, United States'\n",
      " '10451 Santa Monica Blvd, Los Angeles, CA 90025, United States'\n",
      " '114 Delancey St, New York, NY 10002, United States'\n",
      " '5920 Balboa Ave, San Diego, CA 92111, United States'\n",
      " '262 Canal St, New York, NY 10013, United States'\n",
      " '490 8th Ave, New York, NY 10001, United States'\n",
      " '550 Lawrence Expy, Sunnyvale, CA 94086, United States'\n",
      " '11382 US-441, Orlando, FL 32837, United States'\n",
      " '210 5th S, Salt Lake City, UT 84106, United States'\n",
      " '1916 M St NW, Washington, DC 20036, United States'\n",
      " \"151 West 34th Street (Macy's 7th Floor, New York, NY 10001, United States\"\n",
      " '690 Alameda St, Los Angeles, CA 90021, United States'\n",
      " '1650 Washington Ave, Miami Beach, FL 33139, United States'\n",
      " '1121 Garnet Ave, San Diego, CA 92109, United States'\n",
      " '1044 US-11, Champlain, NY 12919, United States'\n",
      " '501 W Imperial Hwy, Los Angeles, CA 90044, United States'\n",
      " '1540 2nd St, Santa Monica, CA 90405, United States'\n",
      " '6875 Sand Lake Rd, Orlando, FL 32819, United States'\n",
      " '25200 I-10 Lot 2, San Antonio, TX 78257, United States'\n",
      " '111 Madison St, Oak Park, IL 60302, United States'\n",
      " '8500 US-290, Austin, TX 78724, United States'\n",
      " '10901 Riverside Dr, North Hollywood, CA 91602, United States'\n",
      " '702-2 Haddonfield-Berlin Rd, Voorhees Township, NJ 08043, United States'\n",
      " '1100 N US Hwy 377, Roanoke, TX 76262, United States'\n",
      " '621 Broadway, Newark, NJ 07104, United States'\n",
      " '2400 Alliance Gateway Fwy, Fort Worth, TX 76177, United States'\n",
      " 'By Mandalay Bay, 3999 S Las Vegas Blvd, Las Vegas, NV 89119, United States'\n",
      " '2476 Kalï¿½ï¿½ï¿½ï¿½ï¿½ï¿½ï¿½ï¿½ï¿½ï¿½ï¿½ï¿½ï¿½ï¿½ï¿½'\n",
      " '5725 W Irlo Bronson Memorial Hwy, Kissimmee, FL 34746, United States'\n",
      " '1415 E State Rd, Fern Park, FL 32730, United States'\n",
      " '9814 International Dr, Orlando, FL 32819, United States'\n",
      " '7010 Bradlick Shopping Center, Annandale, VA 22003, United States'\n",
      " '632 S R L Thornton Freeway Service Rd, Dallas, TX 75203, United States'\n",
      " '3501 Biscayne Blvd, Miami, FL 33137, United States']\n",
      "review_time: 39 : ['3 months ago' '5 days ago' 'a month ago' '2 months ago' '3 weeks ago'\n",
      " 'a year ago' '6 months ago' '5 months ago' '7 months ago' '10 months ago'\n",
      " '4 years ago' '8 months ago' '4 months ago' '3 years ago' '2 years ago'\n",
      " '9 months ago' '11 months ago' '5 years ago' '6 years ago' '7 years ago'\n",
      " '8 years ago' '3 days ago' 'a week ago' '2 days ago' '2 weeks ago'\n",
      " '10 years ago' '9 years ago' '6 days ago' '4 weeks ago' '21 hours ago'\n",
      " '4 days ago' '11 years ago' '12 years ago' 'a day ago' '23 hours ago'\n",
      " '6 hours ago' '20 hours ago' '22 hours ago' '8 hours ago']\n",
      "rating: 5 : ['1 star' '4 stars' '5 stars' '2 stars' '3 stars']\n"
     ]
    }
   ],
   "source": [
    "#check distinct value\n",
    "selected_columns = ['store_name','category','store_address','rating','review_time']\n",
    "for columns in data.columns:\n",
    "    if columns in selected_columns:\n",
    "        num_distinct_value = len(data[columns].unique())\n",
    "        distinct_value = data[columns].unique()\n",
    "        print(f\"{columns}: {num_distinct_value} : {distinct_value}\")"
   ],
   "metadata": {
    "collapsed": false,
    "ExecuteTime": {
     "start_time": "2024-03-06T18:28:27.206510Z",
     "end_time": "2024-03-06T18:28:27.233388Z"
    }
   },
   "id": "559f6e093b3dc8c5"
  },
  {
   "cell_type": "code",
   "execution_count": 62,
   "outputs": [
    {
     "name": "stdout",
     "output_type": "stream",
     "text": [
      "1  :  [\"McDonald's\"]\n"
     ]
    }
   ],
   "source": [
    "# Replace \"ýýýMcDonald's\" with \"McDonald's\"\n",
    "data['store_name'] = data['store_name'].replace(\"ýýýMcDonald's\", \"McDonald's\")\n",
    "print(len(data['store_name'].unique()),\" : \",data['store_name'].unique())"
   ],
   "metadata": {
    "collapsed": false,
    "ExecuteTime": {
     "start_time": "2024-03-06T18:28:27.222464Z",
     "end_time": "2024-03-06T18:28:27.249853Z"
    }
   },
   "id": "39779f592b2ed962"
  },
  {
   "cell_type": "code",
   "execution_count": 63,
   "outputs": [
    {
     "data": {
      "text/plain": "0        McDonald's\n1        McDonald's\n2        McDonald's\n3        McDonald's\n4        McDonald's\n            ...    \n33391    McDonald's\n33392    McDonald's\n33393    McDonald's\n33394    McDonald's\n33395    McDonald's\nName: store_name, Length: 33396, dtype: object"
     },
     "execution_count": 63,
     "metadata": {},
     "output_type": "execute_result"
    }
   ],
   "source": [
    "data['store_name']"
   ],
   "metadata": {
    "collapsed": false,
    "ExecuteTime": {
     "start_time": "2024-03-06T18:28:27.230192Z",
     "end_time": "2024-03-06T18:28:27.269936Z"
    }
   },
   "id": "b062cfec39b5d85c"
  },
  {
   "cell_type": "code",
   "execution_count": 64,
   "outputs": [
    {
     "data": {
      "text/plain": "       reviewer_id  store_name              category  \\\n0                1  McDonald's  Fast food restaurant   \n1                2  McDonald's  Fast food restaurant   \n2                3  McDonald's  Fast food restaurant   \n3                4  McDonald's  Fast food restaurant   \n4                5  McDonald's  Fast food restaurant   \n...            ...         ...                   ...   \n33391        33392  McDonald's  Fast food restaurant   \n33392        33393  McDonald's  Fast food restaurant   \n33393        33394  McDonald's  Fast food restaurant   \n33394        33395  McDonald's  Fast food restaurant   \n33395        33396  McDonald's  Fast food restaurant   \n\n                                           store_address  latitude   \\\n0      13749 US-183 Hwy, Austin, TX 78750, United States  30.460718   \n1      13749 US-183 Hwy, Austin, TX 78750, United States  30.460718   \n2      13749 US-183 Hwy, Austin, TX 78750, United States  30.460718   \n3      13749 US-183 Hwy, Austin, TX 78750, United States  30.460718   \n4      13749 US-183 Hwy, Austin, TX 78750, United States  30.460718   \n...                                                  ...        ...   \n33391  3501 Biscayne Blvd, Miami, FL 33137, United St...  25.810000   \n33392  3501 Biscayne Blvd, Miami, FL 33137, United St...  25.810000   \n33393  3501 Biscayne Blvd, Miami, FL 33137, United St...  25.810000   \n33394  3501 Biscayne Blvd, Miami, FL 33137, United St...  25.810000   \n33395  3501 Biscayne Blvd, Miami, FL 33137, United St...  25.810000   \n\n       longitude rating_count   review_time  \\\n0     -97.792874        1,240  3 months ago   \n1     -97.792874        1,240    5 days ago   \n2     -97.792874        1,240    5 days ago   \n3     -97.792874        1,240   a month ago   \n4     -97.792874        1,240  2 months ago   \n...          ...          ...           ...   \n33391 -80.189098        2,810   4 years ago   \n33392 -80.189098        2,810    a year ago   \n33393 -80.189098        2,810    a year ago   \n33394 -80.189098        2,810   5 years ago   \n33395 -80.189098        2,810   2 years ago   \n\n                                                  review   rating  \n0      Why does it look like someone spit on my food?...   1 star  \n1      It'd McDonalds. It is what it is as far as the...  4 stars  \n2      Made a mobile order got to the speaker and che...   1 star  \n3      My mc. Crispy chicken sandwich was ï¿½ï¿½ï¿½ï¿...  5 stars  \n4      I repeat my order 3 times in the drive thru, a...   1 star  \n...                                                  ...      ...  \n33391                        They treated me very badly.   1 star  \n33392                           The service is very good  5 stars  \n33393                         To remove hunger is enough  4 stars  \n33394  It's good, but lately it has become very expen...  5 stars  \n33395                          they took good care of me  5 stars  \n\n[33396 rows x 10 columns]",
      "text/html": "<div>\n<style scoped>\n    .dataframe tbody tr th:only-of-type {\n        vertical-align: middle;\n    }\n\n    .dataframe tbody tr th {\n        vertical-align: top;\n    }\n\n    .dataframe thead th {\n        text-align: right;\n    }\n</style>\n<table border=\"1\" class=\"dataframe\">\n  <thead>\n    <tr style=\"text-align: right;\">\n      <th></th>\n      <th>reviewer_id</th>\n      <th>store_name</th>\n      <th>category</th>\n      <th>store_address</th>\n      <th>latitude</th>\n      <th>longitude</th>\n      <th>rating_count</th>\n      <th>review_time</th>\n      <th>review</th>\n      <th>rating</th>\n    </tr>\n  </thead>\n  <tbody>\n    <tr>\n      <th>0</th>\n      <td>1</td>\n      <td>McDonald's</td>\n      <td>Fast food restaurant</td>\n      <td>13749 US-183 Hwy, Austin, TX 78750, United States</td>\n      <td>30.460718</td>\n      <td>-97.792874</td>\n      <td>1,240</td>\n      <td>3 months ago</td>\n      <td>Why does it look like someone spit on my food?...</td>\n      <td>1 star</td>\n    </tr>\n    <tr>\n      <th>1</th>\n      <td>2</td>\n      <td>McDonald's</td>\n      <td>Fast food restaurant</td>\n      <td>13749 US-183 Hwy, Austin, TX 78750, United States</td>\n      <td>30.460718</td>\n      <td>-97.792874</td>\n      <td>1,240</td>\n      <td>5 days ago</td>\n      <td>It'd McDonalds. It is what it is as far as the...</td>\n      <td>4 stars</td>\n    </tr>\n    <tr>\n      <th>2</th>\n      <td>3</td>\n      <td>McDonald's</td>\n      <td>Fast food restaurant</td>\n      <td>13749 US-183 Hwy, Austin, TX 78750, United States</td>\n      <td>30.460718</td>\n      <td>-97.792874</td>\n      <td>1,240</td>\n      <td>5 days ago</td>\n      <td>Made a mobile order got to the speaker and che...</td>\n      <td>1 star</td>\n    </tr>\n    <tr>\n      <th>3</th>\n      <td>4</td>\n      <td>McDonald's</td>\n      <td>Fast food restaurant</td>\n      <td>13749 US-183 Hwy, Austin, TX 78750, United States</td>\n      <td>30.460718</td>\n      <td>-97.792874</td>\n      <td>1,240</td>\n      <td>a month ago</td>\n      <td>My mc. Crispy chicken sandwich was ï¿½ï¿½ï¿½ï¿...</td>\n      <td>5 stars</td>\n    </tr>\n    <tr>\n      <th>4</th>\n      <td>5</td>\n      <td>McDonald's</td>\n      <td>Fast food restaurant</td>\n      <td>13749 US-183 Hwy, Austin, TX 78750, United States</td>\n      <td>30.460718</td>\n      <td>-97.792874</td>\n      <td>1,240</td>\n      <td>2 months ago</td>\n      <td>I repeat my order 3 times in the drive thru, a...</td>\n      <td>1 star</td>\n    </tr>\n    <tr>\n      <th>...</th>\n      <td>...</td>\n      <td>...</td>\n      <td>...</td>\n      <td>...</td>\n      <td>...</td>\n      <td>...</td>\n      <td>...</td>\n      <td>...</td>\n      <td>...</td>\n      <td>...</td>\n    </tr>\n    <tr>\n      <th>33391</th>\n      <td>33392</td>\n      <td>McDonald's</td>\n      <td>Fast food restaurant</td>\n      <td>3501 Biscayne Blvd, Miami, FL 33137, United St...</td>\n      <td>25.810000</td>\n      <td>-80.189098</td>\n      <td>2,810</td>\n      <td>4 years ago</td>\n      <td>They treated me very badly.</td>\n      <td>1 star</td>\n    </tr>\n    <tr>\n      <th>33392</th>\n      <td>33393</td>\n      <td>McDonald's</td>\n      <td>Fast food restaurant</td>\n      <td>3501 Biscayne Blvd, Miami, FL 33137, United St...</td>\n      <td>25.810000</td>\n      <td>-80.189098</td>\n      <td>2,810</td>\n      <td>a year ago</td>\n      <td>The service is very good</td>\n      <td>5 stars</td>\n    </tr>\n    <tr>\n      <th>33393</th>\n      <td>33394</td>\n      <td>McDonald's</td>\n      <td>Fast food restaurant</td>\n      <td>3501 Biscayne Blvd, Miami, FL 33137, United St...</td>\n      <td>25.810000</td>\n      <td>-80.189098</td>\n      <td>2,810</td>\n      <td>a year ago</td>\n      <td>To remove hunger is enough</td>\n      <td>4 stars</td>\n    </tr>\n    <tr>\n      <th>33394</th>\n      <td>33395</td>\n      <td>McDonald's</td>\n      <td>Fast food restaurant</td>\n      <td>3501 Biscayne Blvd, Miami, FL 33137, United St...</td>\n      <td>25.810000</td>\n      <td>-80.189098</td>\n      <td>2,810</td>\n      <td>5 years ago</td>\n      <td>It's good, but lately it has become very expen...</td>\n      <td>5 stars</td>\n    </tr>\n    <tr>\n      <th>33395</th>\n      <td>33396</td>\n      <td>McDonald's</td>\n      <td>Fast food restaurant</td>\n      <td>3501 Biscayne Blvd, Miami, FL 33137, United St...</td>\n      <td>25.810000</td>\n      <td>-80.189098</td>\n      <td>2,810</td>\n      <td>2 years ago</td>\n      <td>they took good care of me</td>\n      <td>5 stars</td>\n    </tr>\n  </tbody>\n</table>\n<p>33396 rows × 10 columns</p>\n</div>"
     },
     "execution_count": 64,
     "metadata": {},
     "output_type": "execute_result"
    }
   ],
   "source": [
    "data"
   ],
   "metadata": {
    "collapsed": false,
    "ExecuteTime": {
     "start_time": "2024-03-06T18:28:27.236495Z",
     "end_time": "2024-03-06T18:28:27.273329Z"
    }
   }
  },
  {
   "cell_type": "code",
   "execution_count": 65,
   "outputs": [],
   "source": [
    "# clean store address\n",
    "store_address_data = data['store_address']\n",
    "#removed all non alphabet character\n",
    "cleaned_data = store_address_data.apply(lambda x: re.sub(r'[^a-zA-Z0-9,]+', \" \", x) if pd.notnull(x) else x)\n",
    "cleaned_data = cleaned_data.str.split(',', expand=True)\n",
    "cleaned_data.columns = ['Street Address','City', 'State', 'Country','None']\n",
    "cleaned_data = cleaned_data.drop(columns=['None'])\n",
    "data = pd.concat([data, cleaned_data], axis=1)"
   ],
   "metadata": {
    "collapsed": false,
    "ExecuteTime": {
     "start_time": "2024-03-06T18:28:27.313941Z",
     "end_time": "2024-03-06T18:28:27.365584Z"
    }
   },
   "id": "46a94ca4cadbf6f4"
  },
  {
   "cell_type": "code",
   "execution_count": 66,
   "outputs": [
    {
     "data": {
      "text/plain": "0        1\n1        4\n2        1\n3        5\n4        1\n        ..\n33391    1\n33392    5\n33393    4\n33394    5\n33395    5\nName: rating, Length: 33396, dtype: int64"
     },
     "execution_count": 66,
     "metadata": {},
     "output_type": "execute_result"
    }
   ],
   "source": [
    "data['rating'] = data['rating'].str.extract('(\\d+)').astype(int)\n",
    "data['rating']"
   ],
   "metadata": {
    "collapsed": false,
    "ExecuteTime": {
     "start_time": "2024-03-06T18:28:27.368623Z",
     "end_time": "2024-03-06T18:28:27.379952Z"
    }
   },
   "id": "29a33008fd278e95"
  },
  {
   "cell_type": "code",
   "execution_count": 67,
   "outputs": [
    {
     "data": {
      "text/plain": "array(['Why does it look like someone spit on my food?\\nI had a normal transaction,  everyone was chill and polite, but now i dont want to eat this. Im trying not to think about what this milky white/clear substance is all over my food, i d*** sure am not coming back.',\n       \"It'd McDonalds. It is what it is as far as the food and atmosphere go. The staff here does make a difference. They are all friendly, accommodating and always smiling. Makes for a more pleasant experience than many other fast food places.\",\n       'Made a mobile order got to the speaker and checked it in.\\nLine was not moving so I had to leave otherwise Iï¿½ï¿½ï¿½ï¿½ï¿½ï¿½ï¿½ï¿½ï¿½ï¿½ï¿½ï¿½ï¿½ï¿½ï¿½ï¿½ï¿½ï¿½ï¿½ï¿½ï¿½ï¿½ï¿½ï¿½ï¿½ï¿½ï¿½d be late for work.\\nNever got the refund in the app.\\nI called them and they said I could only get my money back in person because it was stuck in the system.\\nWent there in person the next day  and the manager told me she wasnï¿',\n       ..., 'To remove hunger is enough',\n       \"It's good, but lately it has become very expensive.\",\n       'they took good care of me'], dtype=object)"
     },
     "execution_count": 67,
     "metadata": {},
     "output_type": "execute_result"
    }
   ],
   "source": [
    "unique_review = data['review'].unique()\n",
    "unique_review"
   ],
   "metadata": {
    "collapsed": false,
    "ExecuteTime": {
     "start_time": "2024-03-06T18:28:27.379755Z",
     "end_time": "2024-03-06T18:28:27.394310Z"
    }
   },
   "id": "7dd3223dbaa04d4d"
  },
  {
   "cell_type": "code",
   "execution_count": 68,
   "outputs": [],
   "source": [
    "def clean_review(review):\n",
    "    review = review.lower()\n",
    "    review = review.replace('ï', '')\n",
    "    review = review.replace('¿', '')\n",
    "    review = review.replace('½', '')\n",
    "    review = review.replace('ý', '')\n",
    "    review = \" \".join(review.split())\n",
    "    review = review.rstrip()\n",
    "    return review\n"
   ],
   "metadata": {
    "collapsed": false,
    "ExecuteTime": {
     "start_time": "2024-03-06T18:28:27.393334Z",
     "end_time": "2024-03-06T18:28:27.397282Z"
    }
   },
   "id": "36190c6cca7ab1c0"
  },
  {
   "cell_type": "code",
   "execution_count": 69,
   "outputs": [
    {
     "data": {
      "text/plain": "       reviewer_id  store_name              category  \\\n0                1  McDonald's  Fast food restaurant   \n1                2  McDonald's  Fast food restaurant   \n2                3  McDonald's  Fast food restaurant   \n3                4  McDonald's  Fast food restaurant   \n4                5  McDonald's  Fast food restaurant   \n...            ...         ...                   ...   \n33391        33392  McDonald's  Fast food restaurant   \n33392        33393  McDonald's  Fast food restaurant   \n33393        33394  McDonald's  Fast food restaurant   \n33394        33395  McDonald's  Fast food restaurant   \n33395        33396  McDonald's  Fast food restaurant   \n\n                                           store_address  latitude   \\\n0      13749 US-183 Hwy, Austin, TX 78750, United States  30.460718   \n1      13749 US-183 Hwy, Austin, TX 78750, United States  30.460718   \n2      13749 US-183 Hwy, Austin, TX 78750, United States  30.460718   \n3      13749 US-183 Hwy, Austin, TX 78750, United States  30.460718   \n4      13749 US-183 Hwy, Austin, TX 78750, United States  30.460718   \n...                                                  ...        ...   \n33391  3501 Biscayne Blvd, Miami, FL 33137, United St...  25.810000   \n33392  3501 Biscayne Blvd, Miami, FL 33137, United St...  25.810000   \n33393  3501 Biscayne Blvd, Miami, FL 33137, United St...  25.810000   \n33394  3501 Biscayne Blvd, Miami, FL 33137, United St...  25.810000   \n33395  3501 Biscayne Blvd, Miami, FL 33137, United St...  25.810000   \n\n       longitude rating_count   review_time  \\\n0     -97.792874        1,240  3 months ago   \n1     -97.792874        1,240    5 days ago   \n2     -97.792874        1,240    5 days ago   \n3     -97.792874        1,240   a month ago   \n4     -97.792874        1,240  2 months ago   \n...          ...          ...           ...   \n33391 -80.189098        2,810   4 years ago   \n33392 -80.189098        2,810    a year ago   \n33393 -80.189098        2,810    a year ago   \n33394 -80.189098        2,810   5 years ago   \n33395 -80.189098        2,810   2 years ago   \n\n                                                  review  rating  \\\n0      why does it look like someone spit on my food?...       1   \n1      it'd mcdonalds. it is what it is as far as the...       4   \n2      made a mobile order got to the speaker and che...       1   \n3      my mc. crispy chicken sandwich was customer se...       5   \n4      i repeat my order 3 times in the drive thru, a...       1   \n...                                                  ...     ...   \n33391                        they treated me very badly.       1   \n33392                           the service is very good       5   \n33393                         to remove hunger is enough       4   \n33394  it's good, but lately it has become very expen...       5   \n33395                          they took good care of me       5   \n\n           Street Address     City      State         Country  \n0        13749 US 183 Hwy   Austin   TX 78750   United States  \n1        13749 US 183 Hwy   Austin   TX 78750   United States  \n2        13749 US 183 Hwy   Austin   TX 78750   United States  \n3        13749 US 183 Hwy   Austin   TX 78750   United States  \n4        13749 US 183 Hwy   Austin   TX 78750   United States  \n...                   ...      ...        ...             ...  \n33391  3501 Biscayne Blvd    Miami   FL 33137   United States  \n33392  3501 Biscayne Blvd    Miami   FL 33137   United States  \n33393  3501 Biscayne Blvd    Miami   FL 33137   United States  \n33394  3501 Biscayne Blvd    Miami   FL 33137   United States  \n33395  3501 Biscayne Blvd    Miami   FL 33137   United States  \n\n[33396 rows x 14 columns]",
      "text/html": "<div>\n<style scoped>\n    .dataframe tbody tr th:only-of-type {\n        vertical-align: middle;\n    }\n\n    .dataframe tbody tr th {\n        vertical-align: top;\n    }\n\n    .dataframe thead th {\n        text-align: right;\n    }\n</style>\n<table border=\"1\" class=\"dataframe\">\n  <thead>\n    <tr style=\"text-align: right;\">\n      <th></th>\n      <th>reviewer_id</th>\n      <th>store_name</th>\n      <th>category</th>\n      <th>store_address</th>\n      <th>latitude</th>\n      <th>longitude</th>\n      <th>rating_count</th>\n      <th>review_time</th>\n      <th>review</th>\n      <th>rating</th>\n      <th>Street Address</th>\n      <th>City</th>\n      <th>State</th>\n      <th>Country</th>\n    </tr>\n  </thead>\n  <tbody>\n    <tr>\n      <th>0</th>\n      <td>1</td>\n      <td>McDonald's</td>\n      <td>Fast food restaurant</td>\n      <td>13749 US-183 Hwy, Austin, TX 78750, United States</td>\n      <td>30.460718</td>\n      <td>-97.792874</td>\n      <td>1,240</td>\n      <td>3 months ago</td>\n      <td>why does it look like someone spit on my food?...</td>\n      <td>1</td>\n      <td>13749 US 183 Hwy</td>\n      <td>Austin</td>\n      <td>TX 78750</td>\n      <td>United States</td>\n    </tr>\n    <tr>\n      <th>1</th>\n      <td>2</td>\n      <td>McDonald's</td>\n      <td>Fast food restaurant</td>\n      <td>13749 US-183 Hwy, Austin, TX 78750, United States</td>\n      <td>30.460718</td>\n      <td>-97.792874</td>\n      <td>1,240</td>\n      <td>5 days ago</td>\n      <td>it'd mcdonalds. it is what it is as far as the...</td>\n      <td>4</td>\n      <td>13749 US 183 Hwy</td>\n      <td>Austin</td>\n      <td>TX 78750</td>\n      <td>United States</td>\n    </tr>\n    <tr>\n      <th>2</th>\n      <td>3</td>\n      <td>McDonald's</td>\n      <td>Fast food restaurant</td>\n      <td>13749 US-183 Hwy, Austin, TX 78750, United States</td>\n      <td>30.460718</td>\n      <td>-97.792874</td>\n      <td>1,240</td>\n      <td>5 days ago</td>\n      <td>made a mobile order got to the speaker and che...</td>\n      <td>1</td>\n      <td>13749 US 183 Hwy</td>\n      <td>Austin</td>\n      <td>TX 78750</td>\n      <td>United States</td>\n    </tr>\n    <tr>\n      <th>3</th>\n      <td>4</td>\n      <td>McDonald's</td>\n      <td>Fast food restaurant</td>\n      <td>13749 US-183 Hwy, Austin, TX 78750, United States</td>\n      <td>30.460718</td>\n      <td>-97.792874</td>\n      <td>1,240</td>\n      <td>a month ago</td>\n      <td>my mc. crispy chicken sandwich was customer se...</td>\n      <td>5</td>\n      <td>13749 US 183 Hwy</td>\n      <td>Austin</td>\n      <td>TX 78750</td>\n      <td>United States</td>\n    </tr>\n    <tr>\n      <th>4</th>\n      <td>5</td>\n      <td>McDonald's</td>\n      <td>Fast food restaurant</td>\n      <td>13749 US-183 Hwy, Austin, TX 78750, United States</td>\n      <td>30.460718</td>\n      <td>-97.792874</td>\n      <td>1,240</td>\n      <td>2 months ago</td>\n      <td>i repeat my order 3 times in the drive thru, a...</td>\n      <td>1</td>\n      <td>13749 US 183 Hwy</td>\n      <td>Austin</td>\n      <td>TX 78750</td>\n      <td>United States</td>\n    </tr>\n    <tr>\n      <th>...</th>\n      <td>...</td>\n      <td>...</td>\n      <td>...</td>\n      <td>...</td>\n      <td>...</td>\n      <td>...</td>\n      <td>...</td>\n      <td>...</td>\n      <td>...</td>\n      <td>...</td>\n      <td>...</td>\n      <td>...</td>\n      <td>...</td>\n      <td>...</td>\n    </tr>\n    <tr>\n      <th>33391</th>\n      <td>33392</td>\n      <td>McDonald's</td>\n      <td>Fast food restaurant</td>\n      <td>3501 Biscayne Blvd, Miami, FL 33137, United St...</td>\n      <td>25.810000</td>\n      <td>-80.189098</td>\n      <td>2,810</td>\n      <td>4 years ago</td>\n      <td>they treated me very badly.</td>\n      <td>1</td>\n      <td>3501 Biscayne Blvd</td>\n      <td>Miami</td>\n      <td>FL 33137</td>\n      <td>United States</td>\n    </tr>\n    <tr>\n      <th>33392</th>\n      <td>33393</td>\n      <td>McDonald's</td>\n      <td>Fast food restaurant</td>\n      <td>3501 Biscayne Blvd, Miami, FL 33137, United St...</td>\n      <td>25.810000</td>\n      <td>-80.189098</td>\n      <td>2,810</td>\n      <td>a year ago</td>\n      <td>the service is very good</td>\n      <td>5</td>\n      <td>3501 Biscayne Blvd</td>\n      <td>Miami</td>\n      <td>FL 33137</td>\n      <td>United States</td>\n    </tr>\n    <tr>\n      <th>33393</th>\n      <td>33394</td>\n      <td>McDonald's</td>\n      <td>Fast food restaurant</td>\n      <td>3501 Biscayne Blvd, Miami, FL 33137, United St...</td>\n      <td>25.810000</td>\n      <td>-80.189098</td>\n      <td>2,810</td>\n      <td>a year ago</td>\n      <td>to remove hunger is enough</td>\n      <td>4</td>\n      <td>3501 Biscayne Blvd</td>\n      <td>Miami</td>\n      <td>FL 33137</td>\n      <td>United States</td>\n    </tr>\n    <tr>\n      <th>33394</th>\n      <td>33395</td>\n      <td>McDonald's</td>\n      <td>Fast food restaurant</td>\n      <td>3501 Biscayne Blvd, Miami, FL 33137, United St...</td>\n      <td>25.810000</td>\n      <td>-80.189098</td>\n      <td>2,810</td>\n      <td>5 years ago</td>\n      <td>it's good, but lately it has become very expen...</td>\n      <td>5</td>\n      <td>3501 Biscayne Blvd</td>\n      <td>Miami</td>\n      <td>FL 33137</td>\n      <td>United States</td>\n    </tr>\n    <tr>\n      <th>33395</th>\n      <td>33396</td>\n      <td>McDonald's</td>\n      <td>Fast food restaurant</td>\n      <td>3501 Biscayne Blvd, Miami, FL 33137, United St...</td>\n      <td>25.810000</td>\n      <td>-80.189098</td>\n      <td>2,810</td>\n      <td>2 years ago</td>\n      <td>they took good care of me</td>\n      <td>5</td>\n      <td>3501 Biscayne Blvd</td>\n      <td>Miami</td>\n      <td>FL 33137</td>\n      <td>United States</td>\n    </tr>\n  </tbody>\n</table>\n<p>33396 rows × 14 columns</p>\n</div>"
     },
     "execution_count": 69,
     "metadata": {},
     "output_type": "execute_result"
    }
   ],
   "source": [
    "df_review = [clean_review(review) for review in data['review']]\n",
    "data['review'] = df_review\n",
    "data"
   ],
   "metadata": {
    "collapsed": false,
    "ExecuteTime": {
     "start_time": "2024-03-06T18:28:27.454851Z",
     "end_time": "2024-03-06T18:28:27.457466Z"
    }
   },
   "id": "4df56db213b574d3"
  },
  {
   "cell_type": "code",
   "execution_count": 70,
   "outputs": [],
   "source": [
    "today = date(2024, 3, 5)\n",
    "\n",
    "def convert_to_date(expression):\n",
    "    num, unit = expression.split(' ')[0], expression.split(' ')[1]\n",
    "    if num == 'a':\n",
    "        num = 1\n",
    "    else:\n",
    "        num = int(num)\n",
    "    \n",
    "    if 'hour' in unit:\n",
    "        return today - timedelta(hours=num)\n",
    "    elif 'day' in unit:\n",
    "        return today - timedelta(days=num)\n",
    "    elif 'week' in unit:\n",
    "        return today - timedelta(weeks=num)\n",
    "    elif 'month' in unit:\n",
    "        return today - timedelta(days=num * 30)  \n",
    "    elif 'year' in unit:\n",
    "        return today - timedelta(days=num * 365) \n",
    "    else:\n",
    "        return today"
   ],
   "metadata": {
    "collapsed": false,
    "ExecuteTime": {
     "start_time": "2024-03-06T18:28:27.459175Z",
     "end_time": "2024-03-06T18:28:27.461184Z"
    }
   },
   "id": "abf6b29702609ff1"
  },
  {
   "cell_type": "code",
   "execution_count": 71,
   "outputs": [
    {
     "data": {
      "text/plain": "0        2023-12-06\n1        2024-02-29\n2        2024-02-29\n3        2024-02-04\n4        2024-01-05\n            ...    \n33391    2020-03-06\n33392    2023-03-06\n33393    2023-03-06\n33394    2019-03-07\n33395    2022-03-06\nName: review_time, Length: 33396, dtype: object"
     },
     "execution_count": 71,
     "metadata": {},
     "output_type": "execute_result"
    }
   ],
   "source": [
    "data['review_time'] = data['review_time'].apply(convert_to_date)\n",
    "data['review_time']"
   ],
   "metadata": {
    "collapsed": false,
    "ExecuteTime": {
     "start_time": "2024-03-06T18:28:27.461611Z",
     "end_time": "2024-03-06T18:28:27.504842Z"
    }
   },
   "id": "62a7a9f78db06a70"
  },
  {
   "cell_type": "code",
   "execution_count": 72,
   "outputs": [],
   "source": [
    "def preprocess(texts):\n",
    "    texts = texts.apply(word_tokenize)\n",
    "    stop_words = set(stopwords.words('english'))\n",
    "    texts = texts.apply(lambda s : [word for word in s if word not in stop_words])\n",
    "    stemmer = SnowballStemmer('english')\n",
    "    texts = texts.apply(lambda s: [stemmer.stem(word) for word in s])\n",
    "    texts = texts.apply(lambda s: ' '.join(s))\n",
    "    return texts"
   ],
   "metadata": {
    "collapsed": false,
    "ExecuteTime": {
     "start_time": "2024-03-06T18:28:27.487023Z",
     "end_time": "2024-03-06T18:28:27.520013Z"
    }
   }
  },
  {
   "cell_type": "code",
   "execution_count": 73,
   "outputs": [],
   "source": [
    "processed_review = preprocess(data['review'].astype(str))\n",
    "data['processed_review'] = processed_review"
   ],
   "metadata": {
    "collapsed": false,
    "ExecuteTime": {
     "start_time": "2024-03-06T18:28:27.489930Z",
     "end_time": "2024-03-06T18:28:33.018949Z"
    }
   }
  },
  {
   "cell_type": "code",
   "execution_count": 74,
   "outputs": [
    {
     "data": {
      "text/plain": "       reviewer_id  store_name              category  \\\n0                1  McDonald's  Fast food restaurant   \n1                2  McDonald's  Fast food restaurant   \n2                3  McDonald's  Fast food restaurant   \n3                4  McDonald's  Fast food restaurant   \n4                5  McDonald's  Fast food restaurant   \n...            ...         ...                   ...   \n33391        33392  McDonald's  Fast food restaurant   \n33392        33393  McDonald's  Fast food restaurant   \n33393        33394  McDonald's  Fast food restaurant   \n33394        33395  McDonald's  Fast food restaurant   \n33395        33396  McDonald's  Fast food restaurant   \n\n                                           store_address  latitude   \\\n0      13749 US-183 Hwy, Austin, TX 78750, United States  30.460718   \n1      13749 US-183 Hwy, Austin, TX 78750, United States  30.460718   \n2      13749 US-183 Hwy, Austin, TX 78750, United States  30.460718   \n3      13749 US-183 Hwy, Austin, TX 78750, United States  30.460718   \n4      13749 US-183 Hwy, Austin, TX 78750, United States  30.460718   \n...                                                  ...        ...   \n33391  3501 Biscayne Blvd, Miami, FL 33137, United St...  25.810000   \n33392  3501 Biscayne Blvd, Miami, FL 33137, United St...  25.810000   \n33393  3501 Biscayne Blvd, Miami, FL 33137, United St...  25.810000   \n33394  3501 Biscayne Blvd, Miami, FL 33137, United St...  25.810000   \n33395  3501 Biscayne Blvd, Miami, FL 33137, United St...  25.810000   \n\n       longitude rating_count review_time  \\\n0     -97.792874        1,240  2023-12-06   \n1     -97.792874        1,240  2024-02-29   \n2     -97.792874        1,240  2024-02-29   \n3     -97.792874        1,240  2024-02-04   \n4     -97.792874        1,240  2024-01-05   \n...          ...          ...         ...   \n33391 -80.189098        2,810  2020-03-06   \n33392 -80.189098        2,810  2023-03-06   \n33393 -80.189098        2,810  2023-03-06   \n33394 -80.189098        2,810  2019-03-07   \n33395 -80.189098        2,810  2022-03-06   \n\n                                                  review  rating  \\\n0      why does it look like someone spit on my food?...       1   \n1      it'd mcdonalds. it is what it is as far as the...       4   \n2      made a mobile order got to the speaker and che...       1   \n3      my mc. crispy chicken sandwich was customer se...       5   \n4      i repeat my order 3 times in the drive thru, a...       1   \n...                                                  ...     ...   \n33391                        they treated me very badly.       1   \n33392                           the service is very good       5   \n33393                         to remove hunger is enough       4   \n33394  it's good, but lately it has become very expen...       5   \n33395                          they took good care of me       5   \n\n           Street Address     City      State         Country  \\\n0        13749 US 183 Hwy   Austin   TX 78750   United States   \n1        13749 US 183 Hwy   Austin   TX 78750   United States   \n2        13749 US 183 Hwy   Austin   TX 78750   United States   \n3        13749 US 183 Hwy   Austin   TX 78750   United States   \n4        13749 US 183 Hwy   Austin   TX 78750   United States   \n...                   ...      ...        ...             ...   \n33391  3501 Biscayne Blvd    Miami   FL 33137   United States   \n33392  3501 Biscayne Blvd    Miami   FL 33137   United States   \n33393  3501 Biscayne Blvd    Miami   FL 33137   United States   \n33394  3501 Biscayne Blvd    Miami   FL 33137   United States   \n33395  3501 Biscayne Blvd    Miami   FL 33137   United States   \n\n                                        processed_review  \n0      look like someon spit food ? normal transact ,...  \n1      'd mcdonald . far food atmospher go . staff ma...  \n2      made mobil order got speaker check . line move...  \n3      mc . crispi chicken sandwich custom servic qui...  \n4      repeat order 3 time drive thru , still manag m...  \n...                                                  ...  \n33391                                        treat bad .  \n33392                                        servic good  \n33393                                remov hunger enough  \n33394                      's good , late becom expens .  \n33395                                     took good care  \n\n[33396 rows x 15 columns]",
      "text/html": "<div>\n<style scoped>\n    .dataframe tbody tr th:only-of-type {\n        vertical-align: middle;\n    }\n\n    .dataframe tbody tr th {\n        vertical-align: top;\n    }\n\n    .dataframe thead th {\n        text-align: right;\n    }\n</style>\n<table border=\"1\" class=\"dataframe\">\n  <thead>\n    <tr style=\"text-align: right;\">\n      <th></th>\n      <th>reviewer_id</th>\n      <th>store_name</th>\n      <th>category</th>\n      <th>store_address</th>\n      <th>latitude</th>\n      <th>longitude</th>\n      <th>rating_count</th>\n      <th>review_time</th>\n      <th>review</th>\n      <th>rating</th>\n      <th>Street Address</th>\n      <th>City</th>\n      <th>State</th>\n      <th>Country</th>\n      <th>processed_review</th>\n    </tr>\n  </thead>\n  <tbody>\n    <tr>\n      <th>0</th>\n      <td>1</td>\n      <td>McDonald's</td>\n      <td>Fast food restaurant</td>\n      <td>13749 US-183 Hwy, Austin, TX 78750, United States</td>\n      <td>30.460718</td>\n      <td>-97.792874</td>\n      <td>1,240</td>\n      <td>2023-12-06</td>\n      <td>why does it look like someone spit on my food?...</td>\n      <td>1</td>\n      <td>13749 US 183 Hwy</td>\n      <td>Austin</td>\n      <td>TX 78750</td>\n      <td>United States</td>\n      <td>look like someon spit food ? normal transact ,...</td>\n    </tr>\n    <tr>\n      <th>1</th>\n      <td>2</td>\n      <td>McDonald's</td>\n      <td>Fast food restaurant</td>\n      <td>13749 US-183 Hwy, Austin, TX 78750, United States</td>\n      <td>30.460718</td>\n      <td>-97.792874</td>\n      <td>1,240</td>\n      <td>2024-02-29</td>\n      <td>it'd mcdonalds. it is what it is as far as the...</td>\n      <td>4</td>\n      <td>13749 US 183 Hwy</td>\n      <td>Austin</td>\n      <td>TX 78750</td>\n      <td>United States</td>\n      <td>'d mcdonald . far food atmospher go . staff ma...</td>\n    </tr>\n    <tr>\n      <th>2</th>\n      <td>3</td>\n      <td>McDonald's</td>\n      <td>Fast food restaurant</td>\n      <td>13749 US-183 Hwy, Austin, TX 78750, United States</td>\n      <td>30.460718</td>\n      <td>-97.792874</td>\n      <td>1,240</td>\n      <td>2024-02-29</td>\n      <td>made a mobile order got to the speaker and che...</td>\n      <td>1</td>\n      <td>13749 US 183 Hwy</td>\n      <td>Austin</td>\n      <td>TX 78750</td>\n      <td>United States</td>\n      <td>made mobil order got speaker check . line move...</td>\n    </tr>\n    <tr>\n      <th>3</th>\n      <td>4</td>\n      <td>McDonald's</td>\n      <td>Fast food restaurant</td>\n      <td>13749 US-183 Hwy, Austin, TX 78750, United States</td>\n      <td>30.460718</td>\n      <td>-97.792874</td>\n      <td>1,240</td>\n      <td>2024-02-04</td>\n      <td>my mc. crispy chicken sandwich was customer se...</td>\n      <td>5</td>\n      <td>13749 US 183 Hwy</td>\n      <td>Austin</td>\n      <td>TX 78750</td>\n      <td>United States</td>\n      <td>mc . crispi chicken sandwich custom servic qui...</td>\n    </tr>\n    <tr>\n      <th>4</th>\n      <td>5</td>\n      <td>McDonald's</td>\n      <td>Fast food restaurant</td>\n      <td>13749 US-183 Hwy, Austin, TX 78750, United States</td>\n      <td>30.460718</td>\n      <td>-97.792874</td>\n      <td>1,240</td>\n      <td>2024-01-05</td>\n      <td>i repeat my order 3 times in the drive thru, a...</td>\n      <td>1</td>\n      <td>13749 US 183 Hwy</td>\n      <td>Austin</td>\n      <td>TX 78750</td>\n      <td>United States</td>\n      <td>repeat order 3 time drive thru , still manag m...</td>\n    </tr>\n    <tr>\n      <th>...</th>\n      <td>...</td>\n      <td>...</td>\n      <td>...</td>\n      <td>...</td>\n      <td>...</td>\n      <td>...</td>\n      <td>...</td>\n      <td>...</td>\n      <td>...</td>\n      <td>...</td>\n      <td>...</td>\n      <td>...</td>\n      <td>...</td>\n      <td>...</td>\n      <td>...</td>\n    </tr>\n    <tr>\n      <th>33391</th>\n      <td>33392</td>\n      <td>McDonald's</td>\n      <td>Fast food restaurant</td>\n      <td>3501 Biscayne Blvd, Miami, FL 33137, United St...</td>\n      <td>25.810000</td>\n      <td>-80.189098</td>\n      <td>2,810</td>\n      <td>2020-03-06</td>\n      <td>they treated me very badly.</td>\n      <td>1</td>\n      <td>3501 Biscayne Blvd</td>\n      <td>Miami</td>\n      <td>FL 33137</td>\n      <td>United States</td>\n      <td>treat bad .</td>\n    </tr>\n    <tr>\n      <th>33392</th>\n      <td>33393</td>\n      <td>McDonald's</td>\n      <td>Fast food restaurant</td>\n      <td>3501 Biscayne Blvd, Miami, FL 33137, United St...</td>\n      <td>25.810000</td>\n      <td>-80.189098</td>\n      <td>2,810</td>\n      <td>2023-03-06</td>\n      <td>the service is very good</td>\n      <td>5</td>\n      <td>3501 Biscayne Blvd</td>\n      <td>Miami</td>\n      <td>FL 33137</td>\n      <td>United States</td>\n      <td>servic good</td>\n    </tr>\n    <tr>\n      <th>33393</th>\n      <td>33394</td>\n      <td>McDonald's</td>\n      <td>Fast food restaurant</td>\n      <td>3501 Biscayne Blvd, Miami, FL 33137, United St...</td>\n      <td>25.810000</td>\n      <td>-80.189098</td>\n      <td>2,810</td>\n      <td>2023-03-06</td>\n      <td>to remove hunger is enough</td>\n      <td>4</td>\n      <td>3501 Biscayne Blvd</td>\n      <td>Miami</td>\n      <td>FL 33137</td>\n      <td>United States</td>\n      <td>remov hunger enough</td>\n    </tr>\n    <tr>\n      <th>33394</th>\n      <td>33395</td>\n      <td>McDonald's</td>\n      <td>Fast food restaurant</td>\n      <td>3501 Biscayne Blvd, Miami, FL 33137, United St...</td>\n      <td>25.810000</td>\n      <td>-80.189098</td>\n      <td>2,810</td>\n      <td>2019-03-07</td>\n      <td>it's good, but lately it has become very expen...</td>\n      <td>5</td>\n      <td>3501 Biscayne Blvd</td>\n      <td>Miami</td>\n      <td>FL 33137</td>\n      <td>United States</td>\n      <td>'s good , late becom expens .</td>\n    </tr>\n    <tr>\n      <th>33395</th>\n      <td>33396</td>\n      <td>McDonald's</td>\n      <td>Fast food restaurant</td>\n      <td>3501 Biscayne Blvd, Miami, FL 33137, United St...</td>\n      <td>25.810000</td>\n      <td>-80.189098</td>\n      <td>2,810</td>\n      <td>2022-03-06</td>\n      <td>they took good care of me</td>\n      <td>5</td>\n      <td>3501 Biscayne Blvd</td>\n      <td>Miami</td>\n      <td>FL 33137</td>\n      <td>United States</td>\n      <td>took good care</td>\n    </tr>\n  </tbody>\n</table>\n<p>33396 rows × 15 columns</p>\n</div>"
     },
     "execution_count": 74,
     "metadata": {},
     "output_type": "execute_result"
    }
   ],
   "source": [
    "data"
   ],
   "metadata": {
    "collapsed": false,
    "ExecuteTime": {
     "start_time": "2024-03-06T18:28:33.023068Z",
     "end_time": "2024-03-06T18:28:33.026410Z"
    }
   }
  },
  {
   "cell_type": "code",
   "execution_count": 75,
   "outputs": [],
   "source": [
    "def sentiment_text(rating):\n",
    "    # Determine sentiment based on the rating\n",
    "    if rating >= 4:\n",
    "        return 'Positive'\n",
    "    elif rating <= 2:\n",
    "        return 'Negative'\n",
    "    else:\n",
    "        return 'Neutral'"
   ],
   "metadata": {
    "collapsed": false,
    "ExecuteTime": {
     "start_time": "2024-03-06T18:28:33.026805Z",
     "end_time": "2024-03-06T18:28:33.028113Z"
    }
   }
  },
  {
   "cell_type": "code",
   "execution_count": 76,
   "outputs": [],
   "source": [
    "data['sentiment'] = data.apply(lambda row: sentiment_text(row['rating']), axis=1)"
   ],
   "metadata": {
    "collapsed": false,
    "ExecuteTime": {
     "start_time": "2024-03-06T18:28:33.029244Z",
     "end_time": "2024-03-06T18:28:33.133268Z"
    }
   }
  },
  {
   "cell_type": "code",
   "execution_count": 77,
   "outputs": [],
   "source": [
    "data.rename({'latitude ':'latitude'}, axis=1, inplace=True)"
   ],
   "metadata": {
    "collapsed": false,
    "ExecuteTime": {
     "start_time": "2024-03-06T18:28:33.122740Z",
     "end_time": "2024-03-06T18:28:33.133457Z"
    }
   }
  },
  {
   "cell_type": "code",
   "execution_count": 78,
   "outputs": [],
   "source": [
    "data.loc[data['latitude'].isnull(), 'store_address'] = '2476 Kalākaua Ave, Honolulu, HI 96815, United States'\n",
    "data['latitude'] = data['latitude'].fillna(21.277479)\n",
    "data['longitude'] = data['longitude'].fillna(-157.824151)"
   ],
   "metadata": {
    "collapsed": false,
    "ExecuteTime": {
     "start_time": "2024-03-06T18:28:33.126751Z",
     "end_time": "2024-03-06T18:28:33.133503Z"
    }
   }
  },
  {
   "cell_type": "code",
   "execution_count": 78,
   "outputs": [],
   "source": [],
   "metadata": {
    "collapsed": false,
    "ExecuteTime": {
     "start_time": "2024-03-06T18:28:33.131479Z",
     "end_time": "2024-03-06T18:28:33.133575Z"
    }
   }
  },
  {
   "cell_type": "code",
   "execution_count": 79,
   "outputs": [],
   "source": [
    "output_dir = Path(os.path.abspath('')).parent.parent / \"data\" / \"processed\"\n",
    "output_file = open(str(output_dir) + \"/cleaned_df.pkl\", \"wb\")\n",
    "pickle.dump(data, output_file)\n",
    "output_file.close()"
   ],
   "metadata": {
    "collapsed": false,
    "ExecuteTime": {
     "start_time": "2024-03-06T18:28:33.134833Z",
     "end_time": "2024-03-06T18:28:33.186969Z"
    }
   }
  }
 ],
 "metadata": {
  "kernelspec": {
   "display_name": "Python 3",
   "language": "python",
   "name": "python3"
  },
  "language_info": {
   "codemirror_mode": {
    "name": "ipython",
    "version": 2
   },
   "file_extension": ".py",
   "mimetype": "text/x-python",
   "name": "python",
   "nbconvert_exporter": "python",
   "pygments_lexer": "ipython2",
   "version": "2.7.6"
  }
 },
 "nbformat": 4,
 "nbformat_minor": 5
}
