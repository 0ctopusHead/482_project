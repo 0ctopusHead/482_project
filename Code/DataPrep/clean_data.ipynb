{
 "cells": [
  {
   "cell_type": "code",
   "execution_count": 245,
   "outputs": [],
   "source": [
    "import pandas as pd\n",
    "import re\n",
    "import string\n",
    "from datetime import date, timedelta\n",
    "from nltk.corpus import stopwords\n",
    "from nltk.tokenize import word_tokenize\n",
    "from nltk.stem import SnowballStemmer\n",
    "import pickle\n",
    "import os\n",
    "from pathlib import Path"
   ],
   "metadata": {
    "collapsed": false,
    "ExecuteTime": {
     "start_time": "2024-03-05T20:30:45.146073Z",
     "end_time": "2024-03-05T20:30:45.153323Z"
    }
   }
  },
  {
   "cell_type": "code",
   "execution_count": 246,
   "id": "initial_id",
   "metadata": {
    "collapsed": true,
    "ExecuteTime": {
     "start_time": "2024-03-05T20:30:48.200386Z",
     "end_time": "2024-03-05T20:30:48.270000Z"
    }
   },
   "outputs": [],
   "source": [
    "stored_folder = Path(os.path.abspath('')).parent.parent / \"data\" / \"raw\" / \"McDonald_s_Reviews.csv\"\n",
    "data = pd.read_csv(stored_folder,encoding=\"latin-1\")"
   ]
  },
  {
   "cell_type": "code",
   "execution_count": 247,
   "outputs": [
    {
     "data": {
      "text/plain": "   reviewer_id  store_name              category  \\\n0            1  McDonald's  Fast food restaurant   \n1            2  McDonald's  Fast food restaurant   \n2            3  McDonald's  Fast food restaurant   \n3            4  McDonald's  Fast food restaurant   \n4            5  McDonald's  Fast food restaurant   \n5            6  McDonald's  Fast food restaurant   \n6            7  McDonald's  Fast food restaurant   \n7            8  McDonald's  Fast food restaurant   \n8            9  McDonald's  Fast food restaurant   \n9           10  McDonald's  Fast food restaurant   \n\n                                       store_address  latitude   longitude  \\\n0  13749 US-183 Hwy, Austin, TX 78750, United States  30.460718 -97.792874   \n1  13749 US-183 Hwy, Austin, TX 78750, United States  30.460718 -97.792874   \n2  13749 US-183 Hwy, Austin, TX 78750, United States  30.460718 -97.792874   \n3  13749 US-183 Hwy, Austin, TX 78750, United States  30.460718 -97.792874   \n4  13749 US-183 Hwy, Austin, TX 78750, United States  30.460718 -97.792874   \n5  13749 US-183 Hwy, Austin, TX 78750, United States  30.460718 -97.792874   \n6  13749 US-183 Hwy, Austin, TX 78750, United States  30.460718 -97.792874   \n7  13749 US-183 Hwy, Austin, TX 78750, United States  30.460718 -97.792874   \n8  13749 US-183 Hwy, Austin, TX 78750, United States  30.460718 -97.792874   \n9  13749 US-183 Hwy, Austin, TX 78750, United States  30.460718 -97.792874   \n\n  rating_count   review_time  \\\n0        1,240  3 months ago   \n1        1,240    5 days ago   \n2        1,240    5 days ago   \n3        1,240   a month ago   \n4        1,240  2 months ago   \n5        1,240   3 weeks ago   \n6        1,240  3 months ago   \n7        1,240    a year ago   \n8        1,240  3 months ago   \n9        1,240  3 months ago   \n\n                                              review   rating  \n0  Why does it look like someone spit on my food?...   1 star  \n1  It'd McDonalds. It is what it is as far as the...  4 stars  \n2  Made a mobile order got to the speaker and che...   1 star  \n3  My mc. Crispy chicken sandwich was ï¿½ï¿½ï¿½ï¿...  5 stars  \n4  I repeat my order 3 times in the drive thru, a...   1 star  \n5  I work for door dash and they locked us all ou...   1 star  \n6  If I  could give this location a zero on custo...   1 star  \n7  Came in and ordered a Large coffee w/no ice. T...   1 star  \n8  Went thru drive thru. Ordered. Getting home no...   1 star  \n9  I'm not really a huge fan of fast food, but I ...  4 stars  ",
      "text/html": "<div>\n<style scoped>\n    .dataframe tbody tr th:only-of-type {\n        vertical-align: middle;\n    }\n\n    .dataframe tbody tr th {\n        vertical-align: top;\n    }\n\n    .dataframe thead th {\n        text-align: right;\n    }\n</style>\n<table border=\"1\" class=\"dataframe\">\n  <thead>\n    <tr style=\"text-align: right;\">\n      <th></th>\n      <th>reviewer_id</th>\n      <th>store_name</th>\n      <th>category</th>\n      <th>store_address</th>\n      <th>latitude</th>\n      <th>longitude</th>\n      <th>rating_count</th>\n      <th>review_time</th>\n      <th>review</th>\n      <th>rating</th>\n    </tr>\n  </thead>\n  <tbody>\n    <tr>\n      <th>0</th>\n      <td>1</td>\n      <td>McDonald's</td>\n      <td>Fast food restaurant</td>\n      <td>13749 US-183 Hwy, Austin, TX 78750, United States</td>\n      <td>30.460718</td>\n      <td>-97.792874</td>\n      <td>1,240</td>\n      <td>3 months ago</td>\n      <td>Why does it look like someone spit on my food?...</td>\n      <td>1 star</td>\n    </tr>\n    <tr>\n      <th>1</th>\n      <td>2</td>\n      <td>McDonald's</td>\n      <td>Fast food restaurant</td>\n      <td>13749 US-183 Hwy, Austin, TX 78750, United States</td>\n      <td>30.460718</td>\n      <td>-97.792874</td>\n      <td>1,240</td>\n      <td>5 days ago</td>\n      <td>It'd McDonalds. It is what it is as far as the...</td>\n      <td>4 stars</td>\n    </tr>\n    <tr>\n      <th>2</th>\n      <td>3</td>\n      <td>McDonald's</td>\n      <td>Fast food restaurant</td>\n      <td>13749 US-183 Hwy, Austin, TX 78750, United States</td>\n      <td>30.460718</td>\n      <td>-97.792874</td>\n      <td>1,240</td>\n      <td>5 days ago</td>\n      <td>Made a mobile order got to the speaker and che...</td>\n      <td>1 star</td>\n    </tr>\n    <tr>\n      <th>3</th>\n      <td>4</td>\n      <td>McDonald's</td>\n      <td>Fast food restaurant</td>\n      <td>13749 US-183 Hwy, Austin, TX 78750, United States</td>\n      <td>30.460718</td>\n      <td>-97.792874</td>\n      <td>1,240</td>\n      <td>a month ago</td>\n      <td>My mc. Crispy chicken sandwich was ï¿½ï¿½ï¿½ï¿...</td>\n      <td>5 stars</td>\n    </tr>\n    <tr>\n      <th>4</th>\n      <td>5</td>\n      <td>McDonald's</td>\n      <td>Fast food restaurant</td>\n      <td>13749 US-183 Hwy, Austin, TX 78750, United States</td>\n      <td>30.460718</td>\n      <td>-97.792874</td>\n      <td>1,240</td>\n      <td>2 months ago</td>\n      <td>I repeat my order 3 times in the drive thru, a...</td>\n      <td>1 star</td>\n    </tr>\n    <tr>\n      <th>5</th>\n      <td>6</td>\n      <td>McDonald's</td>\n      <td>Fast food restaurant</td>\n      <td>13749 US-183 Hwy, Austin, TX 78750, United States</td>\n      <td>30.460718</td>\n      <td>-97.792874</td>\n      <td>1,240</td>\n      <td>3 weeks ago</td>\n      <td>I work for door dash and they locked us all ou...</td>\n      <td>1 star</td>\n    </tr>\n    <tr>\n      <th>6</th>\n      <td>7</td>\n      <td>McDonald's</td>\n      <td>Fast food restaurant</td>\n      <td>13749 US-183 Hwy, Austin, TX 78750, United States</td>\n      <td>30.460718</td>\n      <td>-97.792874</td>\n      <td>1,240</td>\n      <td>3 months ago</td>\n      <td>If I  could give this location a zero on custo...</td>\n      <td>1 star</td>\n    </tr>\n    <tr>\n      <th>7</th>\n      <td>8</td>\n      <td>McDonald's</td>\n      <td>Fast food restaurant</td>\n      <td>13749 US-183 Hwy, Austin, TX 78750, United States</td>\n      <td>30.460718</td>\n      <td>-97.792874</td>\n      <td>1,240</td>\n      <td>a year ago</td>\n      <td>Came in and ordered a Large coffee w/no ice. T...</td>\n      <td>1 star</td>\n    </tr>\n    <tr>\n      <th>8</th>\n      <td>9</td>\n      <td>McDonald's</td>\n      <td>Fast food restaurant</td>\n      <td>13749 US-183 Hwy, Austin, TX 78750, United States</td>\n      <td>30.460718</td>\n      <td>-97.792874</td>\n      <td>1,240</td>\n      <td>3 months ago</td>\n      <td>Went thru drive thru. Ordered. Getting home no...</td>\n      <td>1 star</td>\n    </tr>\n    <tr>\n      <th>9</th>\n      <td>10</td>\n      <td>McDonald's</td>\n      <td>Fast food restaurant</td>\n      <td>13749 US-183 Hwy, Austin, TX 78750, United States</td>\n      <td>30.460718</td>\n      <td>-97.792874</td>\n      <td>1,240</td>\n      <td>3 months ago</td>\n      <td>I'm not really a huge fan of fast food, but I ...</td>\n      <td>4 stars</td>\n    </tr>\n  </tbody>\n</table>\n</div>"
     },
     "execution_count": 247,
     "metadata": {},
     "output_type": "execute_result"
    }
   ],
   "source": [
    "data.head(10)"
   ],
   "metadata": {
    "collapsed": false,
    "ExecuteTime": {
     "start_time": "2024-03-05T20:30:48.899829Z",
     "end_time": "2024-03-05T20:30:48.903108Z"
    }
   },
   "id": "338eb1bdea4a9121"
  },
  {
   "cell_type": "code",
   "execution_count": 248,
   "outputs": [
    {
     "data": {
      "text/plain": "Index(['reviewer_id', 'store_name', 'category', 'store_address', 'latitude ',\n       'longitude', 'rating_count', 'review_time', 'review', 'rating'],\n      dtype='object')"
     },
     "execution_count": 248,
     "metadata": {},
     "output_type": "execute_result"
    }
   ],
   "source": [
    "# check data column\n",
    "data.columns"
   ],
   "metadata": {
    "collapsed": false,
    "ExecuteTime": {
     "start_time": "2024-03-05T20:30:49.458690Z",
     "end_time": "2024-03-05T20:30:49.464946Z"
    }
   },
   "id": "9af7227208effa7e"
  },
  {
   "cell_type": "code",
   "execution_count": 249,
   "outputs": [
    {
     "name": "stdout",
     "output_type": "stream",
     "text": [
      "missing value :\n",
      " reviewer_id        0\n",
      "store_name         0\n",
      "category           0\n",
      "store_address      0\n",
      "latitude         660\n",
      "longitude        660\n",
      "rating_count       0\n",
      "review_time        0\n",
      "review             0\n",
      "rating             0\n",
      "dtype: int64\n"
     ]
    }
   ],
   "source": [
    "missing_value = data.isnull().sum()\n",
    "print('missing value :\\n',missing_value)"
   ],
   "metadata": {
    "collapsed": false,
    "ExecuteTime": {
     "start_time": "2024-03-05T20:30:50.072343Z",
     "end_time": "2024-03-05T20:30:50.076171Z"
    }
   },
   "id": "12ef914e9850fc6c"
  },
  {
   "cell_type": "code",
   "execution_count": 250,
   "outputs": [
    {
     "name": "stdout",
     "output_type": "stream",
     "text": [
      "store_name: 2 : [\"McDonald's\" \"ýýýMcDonald's\"]\n",
      "category: 1 : ['Fast food restaurant']\n",
      "store_address: 40 : ['13749 US-183 Hwy, Austin, TX 78750, United States'\n",
      " '1698 US-209, Brodheadsville, PA 18322, United States'\n",
      " '72-69 Kissena Blvd, Queens, NY 11367, United States'\n",
      " '429 7th Ave, New York, NY 10001, United States'\n",
      " '724 Broadway, New York, NY 10003, United States'\n",
      " '160 Broadway, New York, NY 10038, United States'\n",
      " '555 13th St NW, Washington, DC 20004, United States'\n",
      " '10451 Santa Monica Blvd, Los Angeles, CA 90025, United States'\n",
      " '114 Delancey St, New York, NY 10002, United States'\n",
      " '5920 Balboa Ave, San Diego, CA 92111, United States'\n",
      " '262 Canal St, New York, NY 10013, United States'\n",
      " '490 8th Ave, New York, NY 10001, United States'\n",
      " '550 Lawrence Expy, Sunnyvale, CA 94086, United States'\n",
      " '11382 US-441, Orlando, FL 32837, United States'\n",
      " '210 5th S, Salt Lake City, UT 84106, United States'\n",
      " '1916 M St NW, Washington, DC 20036, United States'\n",
      " \"151 West 34th Street (Macy's 7th Floor, New York, NY 10001, United States\"\n",
      " '690 Alameda St, Los Angeles, CA 90021, United States'\n",
      " '1650 Washington Ave, Miami Beach, FL 33139, United States'\n",
      " '1121 Garnet Ave, San Diego, CA 92109, United States'\n",
      " '1044 US-11, Champlain, NY 12919, United States'\n",
      " '501 W Imperial Hwy, Los Angeles, CA 90044, United States'\n",
      " '1540 2nd St, Santa Monica, CA 90405, United States'\n",
      " '6875 Sand Lake Rd, Orlando, FL 32819, United States'\n",
      " '25200 I-10 Lot 2, San Antonio, TX 78257, United States'\n",
      " '111 Madison St, Oak Park, IL 60302, United States'\n",
      " '8500 US-290, Austin, TX 78724, United States'\n",
      " '10901 Riverside Dr, North Hollywood, CA 91602, United States'\n",
      " '702-2 Haddonfield-Berlin Rd, Voorhees Township, NJ 08043, United States'\n",
      " '1100 N US Hwy 377, Roanoke, TX 76262, United States'\n",
      " '621 Broadway, Newark, NJ 07104, United States'\n",
      " '2400 Alliance Gateway Fwy, Fort Worth, TX 76177, United States'\n",
      " 'By Mandalay Bay, 3999 S Las Vegas Blvd, Las Vegas, NV 89119, United States'\n",
      " '2476 Kalï¿½ï¿½ï¿½ï¿½ï¿½ï¿½ï¿½ï¿½ï¿½ï¿½ï¿½ï¿½ï¿½ï¿½ï¿½'\n",
      " '5725 W Irlo Bronson Memorial Hwy, Kissimmee, FL 34746, United States'\n",
      " '1415 E State Rd, Fern Park, FL 32730, United States'\n",
      " '9814 International Dr, Orlando, FL 32819, United States'\n",
      " '7010 Bradlick Shopping Center, Annandale, VA 22003, United States'\n",
      " '632 S R L Thornton Freeway Service Rd, Dallas, TX 75203, United States'\n",
      " '3501 Biscayne Blvd, Miami, FL 33137, United States']\n",
      "review_time: 39 : ['3 months ago' '5 days ago' 'a month ago' '2 months ago' '3 weeks ago'\n",
      " 'a year ago' '6 months ago' '5 months ago' '7 months ago' '10 months ago'\n",
      " '4 years ago' '8 months ago' '4 months ago' '3 years ago' '2 years ago'\n",
      " '9 months ago' '11 months ago' '5 years ago' '6 years ago' '7 years ago'\n",
      " '8 years ago' '3 days ago' 'a week ago' '2 days ago' '2 weeks ago'\n",
      " '10 years ago' '9 years ago' '6 days ago' '4 weeks ago' '21 hours ago'\n",
      " '4 days ago' '11 years ago' '12 years ago' 'a day ago' '23 hours ago'\n",
      " '6 hours ago' '20 hours ago' '22 hours ago' '8 hours ago']\n",
      "rating: 5 : ['1 star' '4 stars' '5 stars' '2 stars' '3 stars']\n"
     ]
    }
   ],
   "source": [
    "#check distinct value\n",
    "selected_columns = ['store_name','category','store_address','rating','review_time']\n",
    "for columns in data.columns:\n",
    "    if columns in selected_columns:\n",
    "        num_distinct_value = len(data[columns].unique())\n",
    "        distinct_value = data[columns].unique()\n",
    "        print(f\"{columns}: {num_distinct_value} : {distinct_value}\")"
   ],
   "metadata": {
    "collapsed": false,
    "ExecuteTime": {
     "start_time": "2024-03-05T20:30:50.878074Z",
     "end_time": "2024-03-05T20:30:50.891990Z"
    }
   },
   "id": "559f6e093b3dc8c5"
  },
  {
   "cell_type": "code",
   "execution_count": 251,
   "outputs": [
    {
     "name": "stdout",
     "output_type": "stream",
     "text": [
      "1  :  [\"McDonald's\"]\n"
     ]
    }
   ],
   "source": [
    "# Replace \"ýýýMcDonald's\" with \"McDonald's\"\n",
    "data['store_name'] = data['store_name'].replace(\"ýýýMcDonald's\", \"McDonald's\")\n",
    "print(len(data['store_name'].unique()),\" : \",data['store_name'].unique())"
   ],
   "metadata": {
    "collapsed": false,
    "ExecuteTime": {
     "start_time": "2024-03-05T20:30:51.547727Z",
     "end_time": "2024-03-05T20:30:51.552074Z"
    }
   },
   "id": "39779f592b2ed962"
  },
  {
   "cell_type": "code",
   "execution_count": 252,
   "outputs": [
    {
     "data": {
      "text/plain": "0        McDonald's\n1        McDonald's\n2        McDonald's\n3        McDonald's\n4        McDonald's\n            ...    \n33391    McDonald's\n33392    McDonald's\n33393    McDonald's\n33394    McDonald's\n33395    McDonald's\nName: store_name, Length: 33396, dtype: object"
     },
     "execution_count": 252,
     "metadata": {},
     "output_type": "execute_result"
    }
   ],
   "source": [
    "data['store_name']"
   ],
   "metadata": {
    "collapsed": false,
    "ExecuteTime": {
     "start_time": "2024-03-05T20:30:52.295556Z",
     "end_time": "2024-03-05T20:30:52.298885Z"
    }
   },
   "id": "b062cfec39b5d85c"
  },
  {
   "cell_type": "code",
   "execution_count": 253,
   "outputs": [
    {
     "data": {
      "text/plain": "           Street Address     City      State         Country\n0        13749 US 183 Hwy   Austin   TX 78750   United States\n1        13749 US 183 Hwy   Austin   TX 78750   United States\n2        13749 US 183 Hwy   Austin   TX 78750   United States\n3        13749 US 183 Hwy   Austin   TX 78750   United States\n4        13749 US 183 Hwy   Austin   TX 78750   United States\n...                   ...      ...        ...             ...\n33391  3501 Biscayne Blvd    Miami   FL 33137   United States\n33392  3501 Biscayne Blvd    Miami   FL 33137   United States\n33393  3501 Biscayne Blvd    Miami   FL 33137   United States\n33394  3501 Biscayne Blvd    Miami   FL 33137   United States\n33395  3501 Biscayne Blvd    Miami   FL 33137   United States\n\n[33396 rows x 4 columns]",
      "text/html": "<div>\n<style scoped>\n    .dataframe tbody tr th:only-of-type {\n        vertical-align: middle;\n    }\n\n    .dataframe tbody tr th {\n        vertical-align: top;\n    }\n\n    .dataframe thead th {\n        text-align: right;\n    }\n</style>\n<table border=\"1\" class=\"dataframe\">\n  <thead>\n    <tr style=\"text-align: right;\">\n      <th></th>\n      <th>Street Address</th>\n      <th>City</th>\n      <th>State</th>\n      <th>Country</th>\n    </tr>\n  </thead>\n  <tbody>\n    <tr>\n      <th>0</th>\n      <td>13749 US 183 Hwy</td>\n      <td>Austin</td>\n      <td>TX 78750</td>\n      <td>United States</td>\n    </tr>\n    <tr>\n      <th>1</th>\n      <td>13749 US 183 Hwy</td>\n      <td>Austin</td>\n      <td>TX 78750</td>\n      <td>United States</td>\n    </tr>\n    <tr>\n      <th>2</th>\n      <td>13749 US 183 Hwy</td>\n      <td>Austin</td>\n      <td>TX 78750</td>\n      <td>United States</td>\n    </tr>\n    <tr>\n      <th>3</th>\n      <td>13749 US 183 Hwy</td>\n      <td>Austin</td>\n      <td>TX 78750</td>\n      <td>United States</td>\n    </tr>\n    <tr>\n      <th>4</th>\n      <td>13749 US 183 Hwy</td>\n      <td>Austin</td>\n      <td>TX 78750</td>\n      <td>United States</td>\n    </tr>\n    <tr>\n      <th>...</th>\n      <td>...</td>\n      <td>...</td>\n      <td>...</td>\n      <td>...</td>\n    </tr>\n    <tr>\n      <th>33391</th>\n      <td>3501 Biscayne Blvd</td>\n      <td>Miami</td>\n      <td>FL 33137</td>\n      <td>United States</td>\n    </tr>\n    <tr>\n      <th>33392</th>\n      <td>3501 Biscayne Blvd</td>\n      <td>Miami</td>\n      <td>FL 33137</td>\n      <td>United States</td>\n    </tr>\n    <tr>\n      <th>33393</th>\n      <td>3501 Biscayne Blvd</td>\n      <td>Miami</td>\n      <td>FL 33137</td>\n      <td>United States</td>\n    </tr>\n    <tr>\n      <th>33394</th>\n      <td>3501 Biscayne Blvd</td>\n      <td>Miami</td>\n      <td>FL 33137</td>\n      <td>United States</td>\n    </tr>\n    <tr>\n      <th>33395</th>\n      <td>3501 Biscayne Blvd</td>\n      <td>Miami</td>\n      <td>FL 33137</td>\n      <td>United States</td>\n    </tr>\n  </tbody>\n</table>\n<p>33396 rows × 4 columns</p>\n</div>"
     },
     "execution_count": 253,
     "metadata": {},
     "output_type": "execute_result"
    }
   ],
   "source": [
    "# clean store address\n",
    "store_address_data = data['store_address']\n",
    "#removed all non alphabet character\n",
    "cleaned_data = store_address_data.apply(lambda x: re.sub(r'[^a-zA-Z0-9,]+', \" \", x) if pd.notnull(x) else x)\n",
    "cleaned_data = cleaned_data.str.split(',', expand=True)\n",
    "cleaned_data.columns = ['Street Address','City', 'State', 'Country','None']\n",
    "cleaned_data = cleaned_data.drop(columns=['None'])\n",
    "cleaned_data"
   ],
   "metadata": {
    "collapsed": false,
    "ExecuteTime": {
     "start_time": "2024-03-05T20:30:52.973894Z",
     "end_time": "2024-03-05T20:30:53.218501Z"
    }
   },
   "id": "46a94ca4cadbf6f4"
  },
  {
   "cell_type": "code",
   "execution_count": 254,
   "outputs": [
    {
     "data": {
      "text/plain": "0        1\n1        4\n2        1\n3        5\n4        1\n        ..\n33391    1\n33392    5\n33393    4\n33394    5\n33395    5\nName: rating, Length: 33396, dtype: int64"
     },
     "execution_count": 254,
     "metadata": {},
     "output_type": "execute_result"
    }
   ],
   "source": [
    "data['rating'] = data['rating'].str.extract('(\\d+)').astype(int)\n",
    "data['rating']"
   ],
   "metadata": {
    "collapsed": false,
    "ExecuteTime": {
     "start_time": "2024-03-05T20:30:54.360367Z",
     "end_time": "2024-03-05T20:30:54.370459Z"
    }
   },
   "id": "29a33008fd278e95"
  },
  {
   "cell_type": "code",
   "execution_count": 255,
   "outputs": [
    {
     "data": {
      "text/plain": "array(['Why does it look like someone spit on my food?\\nI had a normal transaction,  everyone was chill and polite, but now i dont want to eat this. Im trying not to think about what this milky white/clear substance is all over my food, i d*** sure am not coming back.',\n       \"It'd McDonalds. It is what it is as far as the food and atmosphere go. The staff here does make a difference. They are all friendly, accommodating and always smiling. Makes for a more pleasant experience than many other fast food places.\",\n       'Made a mobile order got to the speaker and checked it in.\\nLine was not moving so I had to leave otherwise Iï¿½ï¿½ï¿½ï¿½ï¿½ï¿½ï¿½ï¿½ï¿½ï¿½ï¿½ï¿½ï¿½ï¿½ï¿½ï¿½ï¿½ï¿½ï¿½ï¿½ï¿½ï¿½ï¿½ï¿½ï¿½ï¿½ï¿½d be late for work.\\nNever got the refund in the app.\\nI called them and they said I could only get my money back in person because it was stuck in the system.\\nWent there in person the next day  and the manager told me she wasnï¿',\n       ..., 'To remove hunger is enough',\n       \"It's good, but lately it has become very expensive.\",\n       'they took good care of me'], dtype=object)"
     },
     "execution_count": 255,
     "metadata": {},
     "output_type": "execute_result"
    }
   ],
   "source": [
    "unique_review = data['review'].unique()\n",
    "unique_review"
   ],
   "metadata": {
    "collapsed": false,
    "ExecuteTime": {
     "start_time": "2024-03-05T20:30:55.983599Z",
     "end_time": "2024-03-05T20:30:55.996481Z"
    }
   },
   "id": "7dd3223dbaa04d4d"
  },
  {
   "cell_type": "code",
   "execution_count": 256,
   "outputs": [],
   "source": [
    "def clean_review(data):\n",
    "    clean_review = data.apply(lambda s: s.lower())\n",
    "    clean_review = clean_review.apply(lambda x: re.sub(r'[^a-zA-Z0-9,]+', \" \", x) if pd.notnull(x) else x)\n",
    "    clean_review = clean_review.apply(lambda s: s.translate(str.maketrans(' ', ' ', string.punctuation + u'\\xa0')))\n",
    "    clean_review = clean_review.apply(lambda s: s.translate(str.maketrans(string.whitespace, ' ' * len(string.whitespace), '')))\n",
    "    clean_review = clean_review.apply(lambda s: ' '.join(word for word in s.split() if len(word) > 2))\n",
    "    clean_review = clean_review.drop_duplicates()\n",
    "    return clean_review"
   ],
   "metadata": {
    "collapsed": false,
    "ExecuteTime": {
     "start_time": "2024-03-05T20:30:56.701153Z",
     "end_time": "2024-03-05T20:30:56.704421Z"
    }
   },
   "id": "36190c6cca7ab1c0"
  },
  {
   "cell_type": "code",
   "execution_count": 257,
   "outputs": [],
   "source": [
    "review = clean_review(data['review'])\n",
    "data['review'] = review"
   ],
   "metadata": {
    "collapsed": false,
    "ExecuteTime": {
     "start_time": "2024-03-05T20:30:57.309200Z",
     "end_time": "2024-03-05T20:30:57.611613Z"
    }
   },
   "id": "4df56db213b574d3"
  },
  {
   "cell_type": "code",
   "execution_count": 258,
   "outputs": [],
   "source": [
    "today = date(2024, 3, 5)\n",
    "\n",
    "def convert_to_date(expression):\n",
    "    num, unit = expression.split(' ')[0], expression.split(' ')[1]\n",
    "    if num == 'a':\n",
    "        num = 1\n",
    "    else:\n",
    "        num = int(num)\n",
    "    \n",
    "    if 'hour' in unit:\n",
    "        return today - timedelta(hours=num)\n",
    "    elif 'day' in unit:\n",
    "        return today - timedelta(days=num)\n",
    "    elif 'week' in unit:\n",
    "        return today - timedelta(weeks=num)\n",
    "    elif 'month' in unit:\n",
    "        return today - timedelta(days=num * 30)  \n",
    "    elif 'year' in unit:\n",
    "        return today - timedelta(days=num * 365) \n",
    "    else:\n",
    "        return today"
   ],
   "metadata": {
    "collapsed": false,
    "ExecuteTime": {
     "start_time": "2024-03-05T20:30:58.236082Z",
     "end_time": "2024-03-05T20:30:58.239536Z"
    }
   },
   "id": "abf6b29702609ff1"
  },
  {
   "cell_type": "code",
   "execution_count": 259,
   "outputs": [
    {
     "data": {
      "text/plain": "0        2023-12-06\n1        2024-02-29\n2        2024-02-29\n3        2024-02-04\n4        2024-01-05\n            ...    \n33391    2020-03-06\n33392    2023-03-06\n33393    2023-03-06\n33394    2019-03-07\n33395    2022-03-06\nName: review_time, Length: 33396, dtype: object"
     },
     "execution_count": 259,
     "metadata": {},
     "output_type": "execute_result"
    }
   ],
   "source": [
    "data['review_time'] = data['review_time'].apply(convert_to_date)\n",
    "data['review_time']"
   ],
   "metadata": {
    "collapsed": false,
    "ExecuteTime": {
     "start_time": "2024-03-05T20:30:58.898276Z",
     "end_time": "2024-03-05T20:30:58.903289Z"
    }
   },
   "id": "62a7a9f78db06a70"
  },
  {
   "cell_type": "code",
   "execution_count": 260,
   "outputs": [],
   "source": [
    "def preprocess(texts):\n",
    "    texts = texts.apply(word_tokenize)\n",
    "    stop_words = set(stopwords.words('english'))\n",
    "    texts = texts.apply(lambda s : [word for word in s if word not in stop_words])\n",
    "    stemmer = SnowballStemmer('english')\n",
    "    texts = texts.apply(lambda s: [stemmer.stem(word) for word in s])\n",
    "    texts = texts.apply(lambda s: ' '.join(s))\n",
    "    return texts"
   ],
   "metadata": {
    "collapsed": false,
    "ExecuteTime": {
     "start_time": "2024-03-05T20:30:59.491930Z",
     "end_time": "2024-03-05T20:30:59.495802Z"
    }
   }
  },
  {
   "cell_type": "code",
   "execution_count": 261,
   "outputs": [],
   "source": [
    "processed_review = preprocess(data['review'].astype(str))\n",
    "data['processed_review'] = processed_review"
   ],
   "metadata": {
    "collapsed": false,
    "ExecuteTime": {
     "start_time": "2024-03-05T20:31:00.264582Z",
     "end_time": "2024-03-05T20:31:03.432579Z"
    }
   }
  },
  {
   "cell_type": "code",
   "execution_count": 262,
   "outputs": [
    {
     "data": {
      "text/plain": "       reviewer_id  store_name              category  \\\n0                1  McDonald's  Fast food restaurant   \n1                2  McDonald's  Fast food restaurant   \n2                3  McDonald's  Fast food restaurant   \n3                4  McDonald's  Fast food restaurant   \n4                5  McDonald's  Fast food restaurant   \n...            ...         ...                   ...   \n33391        33392  McDonald's  Fast food restaurant   \n33392        33393  McDonald's  Fast food restaurant   \n33393        33394  McDonald's  Fast food restaurant   \n33394        33395  McDonald's  Fast food restaurant   \n33395        33396  McDonald's  Fast food restaurant   \n\n                                           store_address  latitude   \\\n0      13749 US-183 Hwy, Austin, TX 78750, United States  30.460718   \n1      13749 US-183 Hwy, Austin, TX 78750, United States  30.460718   \n2      13749 US-183 Hwy, Austin, TX 78750, United States  30.460718   \n3      13749 US-183 Hwy, Austin, TX 78750, United States  30.460718   \n4      13749 US-183 Hwy, Austin, TX 78750, United States  30.460718   \n...                                                  ...        ...   \n33391  3501 Biscayne Blvd, Miami, FL 33137, United St...  25.810000   \n33392  3501 Biscayne Blvd, Miami, FL 33137, United St...  25.810000   \n33393  3501 Biscayne Blvd, Miami, FL 33137, United St...  25.810000   \n33394  3501 Biscayne Blvd, Miami, FL 33137, United St...  25.810000   \n33395  3501 Biscayne Blvd, Miami, FL 33137, United St...  25.810000   \n\n       longitude rating_count review_time  \\\n0     -97.792874        1,240  2023-12-06   \n1     -97.792874        1,240  2024-02-29   \n2     -97.792874        1,240  2024-02-29   \n3     -97.792874        1,240  2024-02-04   \n4     -97.792874        1,240  2024-01-05   \n...          ...          ...         ...   \n33391 -80.189098        2,810  2020-03-06   \n33392 -80.189098        2,810  2023-03-06   \n33393 -80.189098        2,810  2023-03-06   \n33394 -80.189098        2,810  2019-03-07   \n33395 -80.189098        2,810  2022-03-06   \n\n                                                  review  rating  \\\n0      why does look like someone spit food had norma...       1   \n1      mcdonalds what far the food and atmosphere the...       4   \n2      made mobile order got the speaker and checked ...       1   \n3      crispy chicken sandwich was customer service w...       5   \n4      repeat order times the drive thru and she stil...       1   \n...                                                  ...     ...   \n33391                            they treated very badly       1   \n33392                              the service very good       5   \n33393                               remove hunger enough       4   \n33394          good but lately has become very expensive       5   \n33395                                they took good care       5   \n\n                                        processed_review  \n0      look like someon spit food normal transact eve...  \n1      mcdonald far food atmospher staff make differ ...  \n2      made mobil order got speaker check line move l...  \n3            crispi chicken sandwich custom servic quick  \n4      repeat order time drive thru still manag mess ...  \n...                                                  ...  \n33391                                          treat bad  \n33392                                        servic good  \n33393                                remov hunger enough  \n33394                             good late becom expens  \n33395                                     took good care  \n\n[33396 rows x 11 columns]",
      "text/html": "<div>\n<style scoped>\n    .dataframe tbody tr th:only-of-type {\n        vertical-align: middle;\n    }\n\n    .dataframe tbody tr th {\n        vertical-align: top;\n    }\n\n    .dataframe thead th {\n        text-align: right;\n    }\n</style>\n<table border=\"1\" class=\"dataframe\">\n  <thead>\n    <tr style=\"text-align: right;\">\n      <th></th>\n      <th>reviewer_id</th>\n      <th>store_name</th>\n      <th>category</th>\n      <th>store_address</th>\n      <th>latitude</th>\n      <th>longitude</th>\n      <th>rating_count</th>\n      <th>review_time</th>\n      <th>review</th>\n      <th>rating</th>\n      <th>processed_review</th>\n    </tr>\n  </thead>\n  <tbody>\n    <tr>\n      <th>0</th>\n      <td>1</td>\n      <td>McDonald's</td>\n      <td>Fast food restaurant</td>\n      <td>13749 US-183 Hwy, Austin, TX 78750, United States</td>\n      <td>30.460718</td>\n      <td>-97.792874</td>\n      <td>1,240</td>\n      <td>2023-12-06</td>\n      <td>why does look like someone spit food had norma...</td>\n      <td>1</td>\n      <td>look like someon spit food normal transact eve...</td>\n    </tr>\n    <tr>\n      <th>1</th>\n      <td>2</td>\n      <td>McDonald's</td>\n      <td>Fast food restaurant</td>\n      <td>13749 US-183 Hwy, Austin, TX 78750, United States</td>\n      <td>30.460718</td>\n      <td>-97.792874</td>\n      <td>1,240</td>\n      <td>2024-02-29</td>\n      <td>mcdonalds what far the food and atmosphere the...</td>\n      <td>4</td>\n      <td>mcdonald far food atmospher staff make differ ...</td>\n    </tr>\n    <tr>\n      <th>2</th>\n      <td>3</td>\n      <td>McDonald's</td>\n      <td>Fast food restaurant</td>\n      <td>13749 US-183 Hwy, Austin, TX 78750, United States</td>\n      <td>30.460718</td>\n      <td>-97.792874</td>\n      <td>1,240</td>\n      <td>2024-02-29</td>\n      <td>made mobile order got the speaker and checked ...</td>\n      <td>1</td>\n      <td>made mobil order got speaker check line move l...</td>\n    </tr>\n    <tr>\n      <th>3</th>\n      <td>4</td>\n      <td>McDonald's</td>\n      <td>Fast food restaurant</td>\n      <td>13749 US-183 Hwy, Austin, TX 78750, United States</td>\n      <td>30.460718</td>\n      <td>-97.792874</td>\n      <td>1,240</td>\n      <td>2024-02-04</td>\n      <td>crispy chicken sandwich was customer service w...</td>\n      <td>5</td>\n      <td>crispi chicken sandwich custom servic quick</td>\n    </tr>\n    <tr>\n      <th>4</th>\n      <td>5</td>\n      <td>McDonald's</td>\n      <td>Fast food restaurant</td>\n      <td>13749 US-183 Hwy, Austin, TX 78750, United States</td>\n      <td>30.460718</td>\n      <td>-97.792874</td>\n      <td>1,240</td>\n      <td>2024-01-05</td>\n      <td>repeat order times the drive thru and she stil...</td>\n      <td>1</td>\n      <td>repeat order time drive thru still manag mess ...</td>\n    </tr>\n    <tr>\n      <th>...</th>\n      <td>...</td>\n      <td>...</td>\n      <td>...</td>\n      <td>...</td>\n      <td>...</td>\n      <td>...</td>\n      <td>...</td>\n      <td>...</td>\n      <td>...</td>\n      <td>...</td>\n      <td>...</td>\n    </tr>\n    <tr>\n      <th>33391</th>\n      <td>33392</td>\n      <td>McDonald's</td>\n      <td>Fast food restaurant</td>\n      <td>3501 Biscayne Blvd, Miami, FL 33137, United St...</td>\n      <td>25.810000</td>\n      <td>-80.189098</td>\n      <td>2,810</td>\n      <td>2020-03-06</td>\n      <td>they treated very badly</td>\n      <td>1</td>\n      <td>treat bad</td>\n    </tr>\n    <tr>\n      <th>33392</th>\n      <td>33393</td>\n      <td>McDonald's</td>\n      <td>Fast food restaurant</td>\n      <td>3501 Biscayne Blvd, Miami, FL 33137, United St...</td>\n      <td>25.810000</td>\n      <td>-80.189098</td>\n      <td>2,810</td>\n      <td>2023-03-06</td>\n      <td>the service very good</td>\n      <td>5</td>\n      <td>servic good</td>\n    </tr>\n    <tr>\n      <th>33393</th>\n      <td>33394</td>\n      <td>McDonald's</td>\n      <td>Fast food restaurant</td>\n      <td>3501 Biscayne Blvd, Miami, FL 33137, United St...</td>\n      <td>25.810000</td>\n      <td>-80.189098</td>\n      <td>2,810</td>\n      <td>2023-03-06</td>\n      <td>remove hunger enough</td>\n      <td>4</td>\n      <td>remov hunger enough</td>\n    </tr>\n    <tr>\n      <th>33394</th>\n      <td>33395</td>\n      <td>McDonald's</td>\n      <td>Fast food restaurant</td>\n      <td>3501 Biscayne Blvd, Miami, FL 33137, United St...</td>\n      <td>25.810000</td>\n      <td>-80.189098</td>\n      <td>2,810</td>\n      <td>2019-03-07</td>\n      <td>good but lately has become very expensive</td>\n      <td>5</td>\n      <td>good late becom expens</td>\n    </tr>\n    <tr>\n      <th>33395</th>\n      <td>33396</td>\n      <td>McDonald's</td>\n      <td>Fast food restaurant</td>\n      <td>3501 Biscayne Blvd, Miami, FL 33137, United St...</td>\n      <td>25.810000</td>\n      <td>-80.189098</td>\n      <td>2,810</td>\n      <td>2022-03-06</td>\n      <td>they took good care</td>\n      <td>5</td>\n      <td>took good care</td>\n    </tr>\n  </tbody>\n</table>\n<p>33396 rows × 11 columns</p>\n</div>"
     },
     "execution_count": 262,
     "metadata": {},
     "output_type": "execute_result"
    }
   ],
   "source": [
    "data"
   ],
   "metadata": {
    "collapsed": false,
    "ExecuteTime": {
     "start_time": "2024-03-05T20:31:03.909808Z",
     "end_time": "2024-03-05T20:31:03.912218Z"
    }
   }
  },
  {
   "cell_type": "code",
   "execution_count": 263,
   "outputs": [],
   "source": [
    "def sentiment_text(rating):\n",
    "    # Determine sentiment based on the rating\n",
    "    if rating >= 4:\n",
    "        return 'Positive'\n",
    "    elif rating <= 2:\n",
    "        return 'Negative'\n",
    "    else:\n",
    "        return 'Neutral'"
   ],
   "metadata": {
    "collapsed": false,
    "ExecuteTime": {
     "start_time": "2024-03-05T20:31:05.214782Z",
     "end_time": "2024-03-05T20:31:05.222510Z"
    }
   }
  },
  {
   "cell_type": "code",
   "execution_count": 264,
   "outputs": [],
   "source": [
    "data['sentiment'] = data.apply(lambda row: sentiment_text(row['rating']), axis=1)"
   ],
   "metadata": {
    "collapsed": false,
    "ExecuteTime": {
     "start_time": "2024-03-05T20:31:05.930439Z",
     "end_time": "2024-03-05T20:31:06.018627Z"
    }
   }
  },
  {
   "cell_type": "code",
   "execution_count": 265,
   "outputs": [
    {
     "data": {
      "text/plain": "       reviewer_id  store_name              category  \\\n0                1  McDonald's  Fast food restaurant   \n1                2  McDonald's  Fast food restaurant   \n2                3  McDonald's  Fast food restaurant   \n3                4  McDonald's  Fast food restaurant   \n4                5  McDonald's  Fast food restaurant   \n...            ...         ...                   ...   \n33391        33392  McDonald's  Fast food restaurant   \n33392        33393  McDonald's  Fast food restaurant   \n33393        33394  McDonald's  Fast food restaurant   \n33394        33395  McDonald's  Fast food restaurant   \n33395        33396  McDonald's  Fast food restaurant   \n\n                                           store_address  latitude   \\\n0      13749 US-183 Hwy, Austin, TX 78750, United States  30.460718   \n1      13749 US-183 Hwy, Austin, TX 78750, United States  30.460718   \n2      13749 US-183 Hwy, Austin, TX 78750, United States  30.460718   \n3      13749 US-183 Hwy, Austin, TX 78750, United States  30.460718   \n4      13749 US-183 Hwy, Austin, TX 78750, United States  30.460718   \n...                                                  ...        ...   \n33391  3501 Biscayne Blvd, Miami, FL 33137, United St...  25.810000   \n33392  3501 Biscayne Blvd, Miami, FL 33137, United St...  25.810000   \n33393  3501 Biscayne Blvd, Miami, FL 33137, United St...  25.810000   \n33394  3501 Biscayne Blvd, Miami, FL 33137, United St...  25.810000   \n33395  3501 Biscayne Blvd, Miami, FL 33137, United St...  25.810000   \n\n       longitude rating_count review_time  \\\n0     -97.792874        1,240  2023-12-06   \n1     -97.792874        1,240  2024-02-29   \n2     -97.792874        1,240  2024-02-29   \n3     -97.792874        1,240  2024-02-04   \n4     -97.792874        1,240  2024-01-05   \n...          ...          ...         ...   \n33391 -80.189098        2,810  2020-03-06   \n33392 -80.189098        2,810  2023-03-06   \n33393 -80.189098        2,810  2023-03-06   \n33394 -80.189098        2,810  2019-03-07   \n33395 -80.189098        2,810  2022-03-06   \n\n                                                  review  rating  \\\n0      why does look like someone spit food had norma...       1   \n1      mcdonalds what far the food and atmosphere the...       4   \n2      made mobile order got the speaker and checked ...       1   \n3      crispy chicken sandwich was customer service w...       5   \n4      repeat order times the drive thru and she stil...       1   \n...                                                  ...     ...   \n33391                            they treated very badly       1   \n33392                              the service very good       5   \n33393                               remove hunger enough       4   \n33394          good but lately has become very expensive       5   \n33395                                they took good care       5   \n\n                                        processed_review sentiment  \n0      look like someon spit food normal transact eve...  Negative  \n1      mcdonald far food atmospher staff make differ ...  Positive  \n2      made mobil order got speaker check line move l...  Negative  \n3            crispi chicken sandwich custom servic quick  Positive  \n4      repeat order time drive thru still manag mess ...  Negative  \n...                                                  ...       ...  \n33391                                          treat bad  Negative  \n33392                                        servic good  Positive  \n33393                                remov hunger enough  Positive  \n33394                             good late becom expens  Positive  \n33395                                     took good care  Positive  \n\n[33396 rows x 12 columns]",
      "text/html": "<div>\n<style scoped>\n    .dataframe tbody tr th:only-of-type {\n        vertical-align: middle;\n    }\n\n    .dataframe tbody tr th {\n        vertical-align: top;\n    }\n\n    .dataframe thead th {\n        text-align: right;\n    }\n</style>\n<table border=\"1\" class=\"dataframe\">\n  <thead>\n    <tr style=\"text-align: right;\">\n      <th></th>\n      <th>reviewer_id</th>\n      <th>store_name</th>\n      <th>category</th>\n      <th>store_address</th>\n      <th>latitude</th>\n      <th>longitude</th>\n      <th>rating_count</th>\n      <th>review_time</th>\n      <th>review</th>\n      <th>rating</th>\n      <th>processed_review</th>\n      <th>sentiment</th>\n    </tr>\n  </thead>\n  <tbody>\n    <tr>\n      <th>0</th>\n      <td>1</td>\n      <td>McDonald's</td>\n      <td>Fast food restaurant</td>\n      <td>13749 US-183 Hwy, Austin, TX 78750, United States</td>\n      <td>30.460718</td>\n      <td>-97.792874</td>\n      <td>1,240</td>\n      <td>2023-12-06</td>\n      <td>why does look like someone spit food had norma...</td>\n      <td>1</td>\n      <td>look like someon spit food normal transact eve...</td>\n      <td>Negative</td>\n    </tr>\n    <tr>\n      <th>1</th>\n      <td>2</td>\n      <td>McDonald's</td>\n      <td>Fast food restaurant</td>\n      <td>13749 US-183 Hwy, Austin, TX 78750, United States</td>\n      <td>30.460718</td>\n      <td>-97.792874</td>\n      <td>1,240</td>\n      <td>2024-02-29</td>\n      <td>mcdonalds what far the food and atmosphere the...</td>\n      <td>4</td>\n      <td>mcdonald far food atmospher staff make differ ...</td>\n      <td>Positive</td>\n    </tr>\n    <tr>\n      <th>2</th>\n      <td>3</td>\n      <td>McDonald's</td>\n      <td>Fast food restaurant</td>\n      <td>13749 US-183 Hwy, Austin, TX 78750, United States</td>\n      <td>30.460718</td>\n      <td>-97.792874</td>\n      <td>1,240</td>\n      <td>2024-02-29</td>\n      <td>made mobile order got the speaker and checked ...</td>\n      <td>1</td>\n      <td>made mobil order got speaker check line move l...</td>\n      <td>Negative</td>\n    </tr>\n    <tr>\n      <th>3</th>\n      <td>4</td>\n      <td>McDonald's</td>\n      <td>Fast food restaurant</td>\n      <td>13749 US-183 Hwy, Austin, TX 78750, United States</td>\n      <td>30.460718</td>\n      <td>-97.792874</td>\n      <td>1,240</td>\n      <td>2024-02-04</td>\n      <td>crispy chicken sandwich was customer service w...</td>\n      <td>5</td>\n      <td>crispi chicken sandwich custom servic quick</td>\n      <td>Positive</td>\n    </tr>\n    <tr>\n      <th>4</th>\n      <td>5</td>\n      <td>McDonald's</td>\n      <td>Fast food restaurant</td>\n      <td>13749 US-183 Hwy, Austin, TX 78750, United States</td>\n      <td>30.460718</td>\n      <td>-97.792874</td>\n      <td>1,240</td>\n      <td>2024-01-05</td>\n      <td>repeat order times the drive thru and she stil...</td>\n      <td>1</td>\n      <td>repeat order time drive thru still manag mess ...</td>\n      <td>Negative</td>\n    </tr>\n    <tr>\n      <th>...</th>\n      <td>...</td>\n      <td>...</td>\n      <td>...</td>\n      <td>...</td>\n      <td>...</td>\n      <td>...</td>\n      <td>...</td>\n      <td>...</td>\n      <td>...</td>\n      <td>...</td>\n      <td>...</td>\n      <td>...</td>\n    </tr>\n    <tr>\n      <th>33391</th>\n      <td>33392</td>\n      <td>McDonald's</td>\n      <td>Fast food restaurant</td>\n      <td>3501 Biscayne Blvd, Miami, FL 33137, United St...</td>\n      <td>25.810000</td>\n      <td>-80.189098</td>\n      <td>2,810</td>\n      <td>2020-03-06</td>\n      <td>they treated very badly</td>\n      <td>1</td>\n      <td>treat bad</td>\n      <td>Negative</td>\n    </tr>\n    <tr>\n      <th>33392</th>\n      <td>33393</td>\n      <td>McDonald's</td>\n      <td>Fast food restaurant</td>\n      <td>3501 Biscayne Blvd, Miami, FL 33137, United St...</td>\n      <td>25.810000</td>\n      <td>-80.189098</td>\n      <td>2,810</td>\n      <td>2023-03-06</td>\n      <td>the service very good</td>\n      <td>5</td>\n      <td>servic good</td>\n      <td>Positive</td>\n    </tr>\n    <tr>\n      <th>33393</th>\n      <td>33394</td>\n      <td>McDonald's</td>\n      <td>Fast food restaurant</td>\n      <td>3501 Biscayne Blvd, Miami, FL 33137, United St...</td>\n      <td>25.810000</td>\n      <td>-80.189098</td>\n      <td>2,810</td>\n      <td>2023-03-06</td>\n      <td>remove hunger enough</td>\n      <td>4</td>\n      <td>remov hunger enough</td>\n      <td>Positive</td>\n    </tr>\n    <tr>\n      <th>33394</th>\n      <td>33395</td>\n      <td>McDonald's</td>\n      <td>Fast food restaurant</td>\n      <td>3501 Biscayne Blvd, Miami, FL 33137, United St...</td>\n      <td>25.810000</td>\n      <td>-80.189098</td>\n      <td>2,810</td>\n      <td>2019-03-07</td>\n      <td>good but lately has become very expensive</td>\n      <td>5</td>\n      <td>good late becom expens</td>\n      <td>Positive</td>\n    </tr>\n    <tr>\n      <th>33395</th>\n      <td>33396</td>\n      <td>McDonald's</td>\n      <td>Fast food restaurant</td>\n      <td>3501 Biscayne Blvd, Miami, FL 33137, United St...</td>\n      <td>25.810000</td>\n      <td>-80.189098</td>\n      <td>2,810</td>\n      <td>2022-03-06</td>\n      <td>they took good care</td>\n      <td>5</td>\n      <td>took good care</td>\n      <td>Positive</td>\n    </tr>\n  </tbody>\n</table>\n<p>33396 rows × 12 columns</p>\n</div>"
     },
     "execution_count": 265,
     "metadata": {},
     "output_type": "execute_result"
    }
   ],
   "source": [
    "data"
   ],
   "metadata": {
    "collapsed": false,
    "ExecuteTime": {
     "start_time": "2024-03-05T20:31:06.993079Z",
     "end_time": "2024-03-05T20:31:06.995776Z"
    }
   }
  },
  {
   "cell_type": "code",
   "execution_count": 267,
   "outputs": [],
   "source": [
    "output_dir = Path(os.path.abspath('')).parent.parent / \"data\" / \"processed\"\n",
    "output_file = open(str(output_dir) + \"/cleaned_df.pkl\", \"wb\")\n",
    "pickle.dump(data, output_file)\n",
    "output_file.close()"
   ],
   "metadata": {
    "collapsed": false,
    "ExecuteTime": {
     "start_time": "2024-03-05T20:31:52.306852Z",
     "end_time": "2024-03-05T20:31:52.338888Z"
    }
   }
  }
 ],
 "metadata": {
  "kernelspec": {
   "display_name": "Python 3",
   "language": "python",
   "name": "python3"
  },
  "language_info": {
   "codemirror_mode": {
    "name": "ipython",
    "version": 2
   },
   "file_extension": ".py",
   "mimetype": "text/x-python",
   "name": "python",
   "nbconvert_exporter": "python",
   "pygments_lexer": "ipython2",
   "version": "2.7.6"
  }
 },
 "nbformat": 4,
 "nbformat_minor": 5
}
